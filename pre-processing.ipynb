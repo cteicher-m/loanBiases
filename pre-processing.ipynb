{
 "cells": [
  {
   "cell_type": "markdown",
   "metadata": {},
   "source": [
    "We seek to answer the question:\n",
    "### Is algorithmic lending racially biased? <font color='red'>But let's change this research question</font> \n",
    "\n",
    "\n",
    "Before we look for loan biases in this housing data we must import and clean the data set so that we can perform analyses. <font color='red'>We need a data dictionary, I have found some that aren't great and don't totally match our data set but are released by HMDA affiliates.</font> \n",
    "### Import Data"
   ]
  },
  {
   "cell_type": "code",
   "execution_count": 1,
   "metadata": {},
   "outputs": [],
   "source": [
    "import pandas as pd\n",
    "import numpy as np\n",
    "import matplotlib.pyplot as plt\n",
    "import csv\n",
    "import hashlib\n",
    "from functools import reduce\n",
    "import enum\n",
    "\n",
    "# Get the total number of rows in the data set prior to filtering out bad, missing, or corrupt lines\n",
    "# use the number to compare the size of the data set after filtering \n",
    "columnNames = []\n",
    "with open('headers.txt', 'r') as headerFile:\n",
    "    headerReader = csv.reader(headerFile, delimiter=',')\n",
    "    for row in headerReader:\n",
    "        columnNames.append(row[1])\n",
    "        \n",
    "numCols = len(columnNames)"
   ]
  },
  {
   "cell_type": "markdown",
   "metadata": {},
   "source": [
    "https://www.ffiec.gov/hmda/glossary.htm contains explanations of many columns and acronyms"
   ]
  },
  {
   "cell_type": "code",
   "execution_count": 2,
   "metadata": {},
   "outputs": [
    {
     "name": "stdout",
     "output_type": "stream",
     "text": [
      "Dropped: 0 Missing: 0   Kept: 439655   Total: 439655\n"
     ]
    }
   ],
   "source": [
    "invalidCols = 0; duplicateRows = 0; keptRows = 0; missingCols = 0; totalRows = 0\n",
    "onHeader = True\n",
    "rows = set()\n",
    "with open('hmda_lar.csv', 'r') as dataFile:\n",
    "    with open('valid_rows_sample_small.csv', 'w') as outFile:\n",
    "        dataReader = csv.reader(dataFile, delimiter=',')\n",
    "        outWriter = csv.writer(outFile, delimiter = ',')\n",
    "        for row in dataReader:\n",
    "            # Skip the header line\n",
    "            totalRows += 1\n",
    "            # Ignore rows with incorrect number of columns\n",
    "            if len(row) != numCols:\n",
    "                invalidCols += 1\n",
    "                continue \n",
    "            else:\n",
    "                # Ignore rows where more than 1/2 of the entries are missing\n",
    "                # Count the number of nan's in a row\n",
    "                missingFields = reduce(lambda x, y: x + int(y == \"\"), row, 0) # do not change \"\" to ''\n",
    "                if missingFields >= int(0.5 * numCols):\n",
    "                    missingCols += 1\n",
    "                    continue\n",
    "                else:\n",
    "                    keptRows += 1\n",
    "                    outWriter.writerow(row)\n",
    "print(\"Dropped: %d Missing: %d   Kept: %d   Total: %d\" % (invalidCols, missingCols,\n",
    "                                                                             keptRows, totalRows))\n",
    "\n",
    "# If we only drop duplicates that match on all fields these are the results.   \n",
    "# Dropped:     Duplicates:     De-duplicated:     Total:    "
   ]
  },
  {
   "cell_type": "code",
   "execution_count": 3,
   "metadata": {},
   "outputs": [],
   "source": [
    "df_dup = pd.read_csv(\"valid_rows_sample_small.csv\", sep=',', engine='python', error_bad_lines=False, dtype='unicode')"
   ]
  },
  {
   "cell_type": "code",
   "execution_count": 4,
   "metadata": {},
   "outputs": [
    {
     "name": "stdout",
     "output_type": "stream",
     "text": [
      "Duplicates: 0\n"
     ]
    }
   ],
   "source": [
    "df_dedup = df_dup.drop_duplicates(keep='first');\n",
    "duplicateRows = df_dup.shape[0]- df_dedup.shape[0]\n",
    "print(\"Duplicates: %d\" % duplicateRows)"
   ]
  },
  {
   "cell_type": "code",
   "execution_count": 5,
   "metadata": {},
   "outputs": [
    {
     "data": {
      "text/plain": [
       "True"
      ]
     },
     "execution_count": 5,
     "metadata": {},
     "output_type": "execute_result"
    }
   ],
   "source": [
    "# Guarantees all rows are accounted for after filtering data\n",
    "invalidCols + duplicateRows + missingCols + keptRows == totalRows"
   ]
  },
  {
   "cell_type": "markdown",
   "metadata": {},
   "source": [
    "The following object contains suggested data types for the corresponding columns. The column headers not in this object are best represented as strings"
   ]
  },
  {
   "cell_type": "code",
   "execution_count": 37,
   "metadata": {},
   "outputs": [],
   "source": [
    "colToType = {\n",
    "    \"tract_to_msamd_income\" : float, \n",
    "    \"rate_spread\" : float,\n",
    "    \"population\" : int,\n",
    "    \"minority_population\" : bool,\n",
    "    \"number_of_owner_occupied_units\" : int, \n",
    "    \"number_of_1_to_4_family_units\" : int, \n",
    "    \"loan_amount_000s\" : float, \n",
    "    \"hud_median_family_income\" : float,\n",
    "    \"applicant_income_000s\" : float,\n",
    "    \"sequence_number\" : int, \n",
    "    \"census_tract_number\" : float, \n",
    "    \"as_of_year\" : int,\n",
    "    \"application_date_indicator\" : int,     \n",
    "}"
   ]
  },
  {
   "cell_type": "code",
   "execution_count": 38,
   "metadata": {},
   "outputs": [
    {
     "name": "stdout",
     "output_type": "stream",
     "text": [
      "Deduplicated Valid Rows: 439654\tFully Deduplicated: True\n",
      "Columns: 47\n"
     ]
    }
   ],
   "source": [
    "df_test = df_dedup\n",
    "# Use Pandas drop_duplicates() as evidence that dataset is deduplicated\n",
    "print(\"Deduplicated Valid Rows: %d\\tFully Deduplicated: %r\" \n",
    "      % (len(df_test), len(df_test) == len(df_test.drop_duplicates())))\n",
    "print(\"Columns: %d\" % len(df_test.columns.values))\n",
    "\n",
    "# Convert types of columns\n",
    "for colName, colType in colToType.items():\n",
    "    if colType == int:\n",
    "        df_test[colName] = df_test[colName].apply(lambda x: x if x != 'nan' else 0).astype(int)\n",
    "    if colType == float:\n",
    "        df_test[colName] = df_test[colName].apply(lambda x: x if x != 'nan' else float('nan')).astype(float)"
   ]
  },
  {
   "cell_type": "markdown",
   "metadata": {},
   "source": [
    "Some fields may have values that are incompatible types. This may occur when no data is stored for a variable, a user did not complete the application, or a column may contain multiple data types. A string representation of an age cannot be compared to a number. If a user inputted N/A, or left that field blank, it is interpreted differently as NA, na, NaN. In this data set, missing information is encoded as \"Information not provided by applicant in mail, Internet, or telephone application\" as well."
   ]
  },
  {
   "cell_type": "code",
   "execution_count": 40,
   "metadata": {},
   "outputs": [],
   "source": [
    "df_test.replace(\"nan\", np.nan, inplace=True)\n",
    "df_test.replace(\"None\", np.nan, inplace=True)\n",
    "df_test.replace(\"Information not provided by applicant in mail, Internet, or telephone application\", np.nan, inplace=True)"
   ]
  },
  {
   "cell_type": "code",
   "execution_count": 41,
   "metadata": {},
   "outputs": [],
   "source": [
    "# this data set is specific to New York State in 2015 so there is no need to keep the state name, year, and abbrevation NY\n",
    "df_test.drop([\"state_name\",\"state_abbr\", \"as_of_year\"],axis=1);"
   ]
  },
  {
   "cell_type": "code",
   "execution_count": 42,
   "metadata": {},
   "outputs": [
    {
     "data": {
      "text/plain": [
       "lien_status_name\n",
       "Not applicable                    61490\n",
       "Not secured by a lien             23620\n",
       "Secured by a first lien          340272\n",
       "Secured by a subordinate lien     14272\n",
       "Name: respondent_id, dtype: int64"
      ]
     },
     "execution_count": 42,
     "metadata": {},
     "output_type": "execute_result"
    }
   ],
   "source": [
    "df_test.groupby('lien_status_name').respondent_id.count()"
   ]
  },
  {
   "cell_type": "markdown",
   "metadata": {},
   "source": [
    "get rid of: application withdrawn, file closed for incompleteness"
   ]
  },
  {
   "cell_type": "code",
   "execution_count": 11,
   "metadata": {},
   "outputs": [
    {
     "data": {
      "text/plain": [
       "action_taken_name\n",
       "Application approved but not accepted                   14180\n",
       "Application denied by financial institution             79697\n",
       "Application withdrawn by applicant                      39496\n",
       "File closed for incompleteness                          16733\n",
       "Loan originated                                        228054\n",
       "Loan purchased by the institution                       61490\n",
       "Preapproval request denied by financial institution         4\n",
       "Name: respondent_id, dtype: int64"
      ]
     },
     "execution_count": 11,
     "metadata": {},
     "output_type": "execute_result"
    }
   ],
   "source": [
    "# list(df_test.action_taken_name.values).unique()\n",
    "df_test.groupby('action_taken_name').respondent_id.count()"
   ]
  },
  {
   "cell_type": "markdown",
   "metadata": {},
   "source": [
    "A bank loan that gets approved is considered \"originated\" and is indicated under the \"action_taken_name\" column. A loan may not originated due to 1 of 6 options: the loan application was approved but not accepted, application denied by financial institution, application withdrawn by applicant, file closed for incompleteness, loan purchased by the institution, preapproval request denied by finanical institution. We are only interested in analyzing if a loan application was submitted and if that application was approved or not approved. Therefore, we can remove columns that provide additional information about action taken following a loan that was not approved, or if an application was not completed/withdrawn."
   ]
  },
  {
   "cell_type": "code",
   "execution_count": 12,
   "metadata": {},
   "outputs": [],
   "source": [
    "df_test = df_test.drop(df_test[df_test.action_taken_name == \"Application withdrawn by applicant\"].index)\n",
    "df_test = df_test.drop(df_test[df_test.action_taken_name == \"File closed for incompleteness\"].index)"
   ]
  },
  {
   "cell_type": "code",
   "execution_count": 13,
   "metadata": {},
   "outputs": [
    {
     "data": {
      "text/plain": [
       "action_taken_name\n",
       "Application approved but not accepted                   14180\n",
       "Application denied by financial institution             79697\n",
       "Loan originated                                        228054\n",
       "Loan purchased by the institution                       61490\n",
       "Preapproval request denied by financial institution         4\n",
       "Name: respondent_id, dtype: int64"
      ]
     },
     "execution_count": 13,
     "metadata": {},
     "output_type": "execute_result"
    }
   ],
   "source": [
    "df_test.groupby('action_taken_name').respondent_id.count()"
   ]
  },
  {
   "cell_type": "markdown",
   "metadata": {},
   "source": [
    "add enums"
   ]
  },
  {
   "cell_type": "code",
   "execution_count": 14,
   "metadata": {},
   "outputs": [
    {
     "data": {
      "text/html": [
       "<div>\n",
       "<style scoped>\n",
       "    .dataframe tbody tr th:only-of-type {\n",
       "        vertical-align: middle;\n",
       "    }\n",
       "\n",
       "    .dataframe tbody tr th {\n",
       "        vertical-align: top;\n",
       "    }\n",
       "\n",
       "    .dataframe thead th {\n",
       "        text-align: right;\n",
       "    }\n",
       "</style>\n",
       "<table border=\"1\" class=\"dataframe\">\n",
       "  <thead>\n",
       "    <tr style=\"text-align: right;\">\n",
       "      <th></th>\n",
       "      <th>tract_to_msamd_income</th>\n",
       "      <th>rate_spread</th>\n",
       "      <th>population</th>\n",
       "      <th>minority_population</th>\n",
       "      <th>number_of_owner_occupied_units</th>\n",
       "      <th>number_of_1_to_4_family_units</th>\n",
       "      <th>loan_amount_000s</th>\n",
       "      <th>hud_median_family_income</th>\n",
       "      <th>applicant_income_000s</th>\n",
       "      <th>state_name</th>\n",
       "      <th>...</th>\n",
       "      <th>applicant_sex_name</th>\n",
       "      <th>applicant_race_name_5</th>\n",
       "      <th>applicant_race_name_4</th>\n",
       "      <th>applicant_race_name_3</th>\n",
       "      <th>applicant_race_name_2</th>\n",
       "      <th>applicant_race_name_1</th>\n",
       "      <th>applicant_ethnicity_name</th>\n",
       "      <th>agency_name</th>\n",
       "      <th>agency_abbr</th>\n",
       "      <th>action_taken_name</th>\n",
       "    </tr>\n",
       "    <tr>\n",
       "      <th>denial_reason_name_1</th>\n",
       "      <th></th>\n",
       "      <th></th>\n",
       "      <th></th>\n",
       "      <th></th>\n",
       "      <th></th>\n",
       "      <th></th>\n",
       "      <th></th>\n",
       "      <th></th>\n",
       "      <th></th>\n",
       "      <th></th>\n",
       "      <th></th>\n",
       "      <th></th>\n",
       "      <th></th>\n",
       "      <th></th>\n",
       "      <th></th>\n",
       "      <th></th>\n",
       "      <th></th>\n",
       "      <th></th>\n",
       "      <th></th>\n",
       "      <th></th>\n",
       "      <th></th>\n",
       "    </tr>\n",
       "  </thead>\n",
       "  <tbody>\n",
       "    <tr>\n",
       "      <th>Collateral</th>\n",
       "      <td>3163</td>\n",
       "      <td>0</td>\n",
       "      <td>2778</td>\n",
       "      <td>2708</td>\n",
       "      <td>1743</td>\n",
       "      <td>1977</td>\n",
       "      <td>1016</td>\n",
       "      <td>15</td>\n",
       "      <td>696</td>\n",
       "      <td>1</td>\n",
       "      <td>...</td>\n",
       "      <td>3</td>\n",
       "      <td>0</td>\n",
       "      <td>0</td>\n",
       "      <td>3</td>\n",
       "      <td>5</td>\n",
       "      <td>6</td>\n",
       "      <td>3</td>\n",
       "      <td>6</td>\n",
       "      <td>6</td>\n",
       "      <td>1</td>\n",
       "    </tr>\n",
       "    <tr>\n",
       "      <th>Credit application incomplete</th>\n",
       "      <td>2712</td>\n",
       "      <td>0</td>\n",
       "      <td>2433</td>\n",
       "      <td>2381</td>\n",
       "      <td>1627</td>\n",
       "      <td>1829</td>\n",
       "      <td>998</td>\n",
       "      <td>15</td>\n",
       "      <td>661</td>\n",
       "      <td>1</td>\n",
       "      <td>...</td>\n",
       "      <td>3</td>\n",
       "      <td>0</td>\n",
       "      <td>0</td>\n",
       "      <td>0</td>\n",
       "      <td>5</td>\n",
       "      <td>6</td>\n",
       "      <td>3</td>\n",
       "      <td>6</td>\n",
       "      <td>6</td>\n",
       "      <td>1</td>\n",
       "    </tr>\n",
       "    <tr>\n",
       "      <th>Credit history</th>\n",
       "      <td>3399</td>\n",
       "      <td>0</td>\n",
       "      <td>2945</td>\n",
       "      <td>2869</td>\n",
       "      <td>1775</td>\n",
       "      <td>2031</td>\n",
       "      <td>805</td>\n",
       "      <td>15</td>\n",
       "      <td>569</td>\n",
       "      <td>1</td>\n",
       "      <td>...</td>\n",
       "      <td>3</td>\n",
       "      <td>0</td>\n",
       "      <td>1</td>\n",
       "      <td>3</td>\n",
       "      <td>5</td>\n",
       "      <td>6</td>\n",
       "      <td>3</td>\n",
       "      <td>6</td>\n",
       "      <td>6</td>\n",
       "      <td>1</td>\n",
       "    </tr>\n",
       "    <tr>\n",
       "      <th>Debt-to-income ratio</th>\n",
       "      <td>3477</td>\n",
       "      <td>0</td>\n",
       "      <td>2999</td>\n",
       "      <td>2975</td>\n",
       "      <td>1791</td>\n",
       "      <td>2064</td>\n",
       "      <td>1174</td>\n",
       "      <td>15</td>\n",
       "      <td>569</td>\n",
       "      <td>1</td>\n",
       "      <td>...</td>\n",
       "      <td>3</td>\n",
       "      <td>1</td>\n",
       "      <td>1</td>\n",
       "      <td>2</td>\n",
       "      <td>5</td>\n",
       "      <td>6</td>\n",
       "      <td>3</td>\n",
       "      <td>6</td>\n",
       "      <td>6</td>\n",
       "      <td>2</td>\n",
       "    </tr>\n",
       "    <tr>\n",
       "      <th>Employment history</th>\n",
       "      <td>612</td>\n",
       "      <td>0</td>\n",
       "      <td>610</td>\n",
       "      <td>570</td>\n",
       "      <td>541</td>\n",
       "      <td>569</td>\n",
       "      <td>355</td>\n",
       "      <td>15</td>\n",
       "      <td>191</td>\n",
       "      <td>1</td>\n",
       "      <td>...</td>\n",
       "      <td>2</td>\n",
       "      <td>0</td>\n",
       "      <td>0</td>\n",
       "      <td>0</td>\n",
       "      <td>2</td>\n",
       "      <td>5</td>\n",
       "      <td>3</td>\n",
       "      <td>6</td>\n",
       "      <td>6</td>\n",
       "      <td>1</td>\n",
       "    </tr>\n",
       "    <tr>\n",
       "      <th>Insufficient cash (downpayment, closing costs)</th>\n",
       "      <td>1074</td>\n",
       "      <td>0</td>\n",
       "      <td>1044</td>\n",
       "      <td>1008</td>\n",
       "      <td>869</td>\n",
       "      <td>953</td>\n",
       "      <td>591</td>\n",
       "      <td>15</td>\n",
       "      <td>352</td>\n",
       "      <td>1</td>\n",
       "      <td>...</td>\n",
       "      <td>3</td>\n",
       "      <td>0</td>\n",
       "      <td>0</td>\n",
       "      <td>0</td>\n",
       "      <td>2</td>\n",
       "      <td>6</td>\n",
       "      <td>3</td>\n",
       "      <td>6</td>\n",
       "      <td>6</td>\n",
       "      <td>1</td>\n",
       "    </tr>\n",
       "    <tr>\n",
       "      <th>Mortgage insurance denied</th>\n",
       "      <td>126</td>\n",
       "      <td>0</td>\n",
       "      <td>127</td>\n",
       "      <td>127</td>\n",
       "      <td>122</td>\n",
       "      <td>124</td>\n",
       "      <td>93</td>\n",
       "      <td>12</td>\n",
       "      <td>83</td>\n",
       "      <td>1</td>\n",
       "      <td>...</td>\n",
       "      <td>2</td>\n",
       "      <td>0</td>\n",
       "      <td>0</td>\n",
       "      <td>0</td>\n",
       "      <td>1</td>\n",
       "      <td>5</td>\n",
       "      <td>2</td>\n",
       "      <td>6</td>\n",
       "      <td>6</td>\n",
       "      <td>1</td>\n",
       "    </tr>\n",
       "    <tr>\n",
       "      <th>Other</th>\n",
       "      <td>2438</td>\n",
       "      <td>0</td>\n",
       "      <td>2224</td>\n",
       "      <td>2170</td>\n",
       "      <td>1550</td>\n",
       "      <td>1708</td>\n",
       "      <td>816</td>\n",
       "      <td>15</td>\n",
       "      <td>557</td>\n",
       "      <td>1</td>\n",
       "      <td>...</td>\n",
       "      <td>3</td>\n",
       "      <td>0</td>\n",
       "      <td>0</td>\n",
       "      <td>1</td>\n",
       "      <td>5</td>\n",
       "      <td>6</td>\n",
       "      <td>3</td>\n",
       "      <td>6</td>\n",
       "      <td>6</td>\n",
       "      <td>2</td>\n",
       "    </tr>\n",
       "    <tr>\n",
       "      <th>Unverifiable information</th>\n",
       "      <td>1379</td>\n",
       "      <td>0</td>\n",
       "      <td>1322</td>\n",
       "      <td>1288</td>\n",
       "      <td>1069</td>\n",
       "      <td>1102</td>\n",
       "      <td>652</td>\n",
       "      <td>15</td>\n",
       "      <td>380</td>\n",
       "      <td>1</td>\n",
       "      <td>...</td>\n",
       "      <td>3</td>\n",
       "      <td>0</td>\n",
       "      <td>0</td>\n",
       "      <td>1</td>\n",
       "      <td>3</td>\n",
       "      <td>6</td>\n",
       "      <td>3</td>\n",
       "      <td>6</td>\n",
       "      <td>6</td>\n",
       "      <td>1</td>\n",
       "    </tr>\n",
       "  </tbody>\n",
       "</table>\n",
       "<p>9 rows × 47 columns</p>\n",
       "</div>"
      ],
      "text/plain": [
       "                                                tract_to_msamd_income  \\\n",
       "denial_reason_name_1                                                    \n",
       "Collateral                                                       3163   \n",
       "Credit application incomplete                                    2712   \n",
       "Credit history                                                   3399   \n",
       "Debt-to-income ratio                                             3477   \n",
       "Employment history                                                612   \n",
       "Insufficient cash (downpayment, closing costs)                   1074   \n",
       "Mortgage insurance denied                                         126   \n",
       "Other                                                            2438   \n",
       "Unverifiable information                                         1379   \n",
       "\n",
       "                                                rate_spread  population  \\\n",
       "denial_reason_name_1                                                      \n",
       "Collateral                                                0        2778   \n",
       "Credit application incomplete                             0        2433   \n",
       "Credit history                                            0        2945   \n",
       "Debt-to-income ratio                                      0        2999   \n",
       "Employment history                                        0         610   \n",
       "Insufficient cash (downpayment, closing costs)            0        1044   \n",
       "Mortgage insurance denied                                 0         127   \n",
       "Other                                                     0        2224   \n",
       "Unverifiable information                                  0        1322   \n",
       "\n",
       "                                                minority_population  \\\n",
       "denial_reason_name_1                                                  \n",
       "Collateral                                                     2708   \n",
       "Credit application incomplete                                  2381   \n",
       "Credit history                                                 2869   \n",
       "Debt-to-income ratio                                           2975   \n",
       "Employment history                                              570   \n",
       "Insufficient cash (downpayment, closing costs)                 1008   \n",
       "Mortgage insurance denied                                       127   \n",
       "Other                                                          2170   \n",
       "Unverifiable information                                       1288   \n",
       "\n",
       "                                                number_of_owner_occupied_units  \\\n",
       "denial_reason_name_1                                                             \n",
       "Collateral                                                                1743   \n",
       "Credit application incomplete                                             1627   \n",
       "Credit history                                                            1775   \n",
       "Debt-to-income ratio                                                      1791   \n",
       "Employment history                                                         541   \n",
       "Insufficient cash (downpayment, closing costs)                             869   \n",
       "Mortgage insurance denied                                                  122   \n",
       "Other                                                                     1550   \n",
       "Unverifiable information                                                  1069   \n",
       "\n",
       "                                                number_of_1_to_4_family_units  \\\n",
       "denial_reason_name_1                                                            \n",
       "Collateral                                                               1977   \n",
       "Credit application incomplete                                            1829   \n",
       "Credit history                                                           2031   \n",
       "Debt-to-income ratio                                                     2064   \n",
       "Employment history                                                        569   \n",
       "Insufficient cash (downpayment, closing costs)                            953   \n",
       "Mortgage insurance denied                                                 124   \n",
       "Other                                                                    1708   \n",
       "Unverifiable information                                                 1102   \n",
       "\n",
       "                                                loan_amount_000s  \\\n",
       "denial_reason_name_1                                               \n",
       "Collateral                                                  1016   \n",
       "Credit application incomplete                                998   \n",
       "Credit history                                               805   \n",
       "Debt-to-income ratio                                        1174   \n",
       "Employment history                                           355   \n",
       "Insufficient cash (downpayment, closing costs)               591   \n",
       "Mortgage insurance denied                                     93   \n",
       "Other                                                        816   \n",
       "Unverifiable information                                     652   \n",
       "\n",
       "                                                hud_median_family_income  \\\n",
       "denial_reason_name_1                                                       \n",
       "Collateral                                                            15   \n",
       "Credit application incomplete                                         15   \n",
       "Credit history                                                        15   \n",
       "Debt-to-income ratio                                                  15   \n",
       "Employment history                                                    15   \n",
       "Insufficient cash (downpayment, closing costs)                        15   \n",
       "Mortgage insurance denied                                             12   \n",
       "Other                                                                 15   \n",
       "Unverifiable information                                              15   \n",
       "\n",
       "                                                applicant_income_000s  \\\n",
       "denial_reason_name_1                                                    \n",
       "Collateral                                                        696   \n",
       "Credit application incomplete                                     661   \n",
       "Credit history                                                    569   \n",
       "Debt-to-income ratio                                              569   \n",
       "Employment history                                                191   \n",
       "Insufficient cash (downpayment, closing costs)                    352   \n",
       "Mortgage insurance denied                                          83   \n",
       "Other                                                             557   \n",
       "Unverifiable information                                          380   \n",
       "\n",
       "                                                state_name        ...          \\\n",
       "denial_reason_name_1                                              ...           \n",
       "Collateral                                               1        ...           \n",
       "Credit application incomplete                            1        ...           \n",
       "Credit history                                           1        ...           \n",
       "Debt-to-income ratio                                     1        ...           \n",
       "Employment history                                       1        ...           \n",
       "Insufficient cash (downpayment, closing costs)           1        ...           \n",
       "Mortgage insurance denied                                1        ...           \n",
       "Other                                                    1        ...           \n",
       "Unverifiable information                                 1        ...           \n",
       "\n",
       "                                                applicant_sex_name  \\\n",
       "denial_reason_name_1                                                 \n",
       "Collateral                                                       3   \n",
       "Credit application incomplete                                    3   \n",
       "Credit history                                                   3   \n",
       "Debt-to-income ratio                                             3   \n",
       "Employment history                                               2   \n",
       "Insufficient cash (downpayment, closing costs)                   3   \n",
       "Mortgage insurance denied                                        2   \n",
       "Other                                                            3   \n",
       "Unverifiable information                                         3   \n",
       "\n",
       "                                                applicant_race_name_5  \\\n",
       "denial_reason_name_1                                                    \n",
       "Collateral                                                          0   \n",
       "Credit application incomplete                                       0   \n",
       "Credit history                                                      0   \n",
       "Debt-to-income ratio                                                1   \n",
       "Employment history                                                  0   \n",
       "Insufficient cash (downpayment, closing costs)                      0   \n",
       "Mortgage insurance denied                                           0   \n",
       "Other                                                               0   \n",
       "Unverifiable information                                            0   \n",
       "\n",
       "                                                applicant_race_name_4  \\\n",
       "denial_reason_name_1                                                    \n",
       "Collateral                                                          0   \n",
       "Credit application incomplete                                       0   \n",
       "Credit history                                                      1   \n",
       "Debt-to-income ratio                                                1   \n",
       "Employment history                                                  0   \n",
       "Insufficient cash (downpayment, closing costs)                      0   \n",
       "Mortgage insurance denied                                           0   \n",
       "Other                                                               0   \n",
       "Unverifiable information                                            0   \n",
       "\n",
       "                                                applicant_race_name_3  \\\n",
       "denial_reason_name_1                                                    \n",
       "Collateral                                                          3   \n",
       "Credit application incomplete                                       0   \n",
       "Credit history                                                      3   \n",
       "Debt-to-income ratio                                                2   \n",
       "Employment history                                                  0   \n",
       "Insufficient cash (downpayment, closing costs)                      0   \n",
       "Mortgage insurance denied                                           0   \n",
       "Other                                                               1   \n",
       "Unverifiable information                                            1   \n",
       "\n",
       "                                                applicant_race_name_2  \\\n",
       "denial_reason_name_1                                                    \n",
       "Collateral                                                          5   \n",
       "Credit application incomplete                                       5   \n",
       "Credit history                                                      5   \n",
       "Debt-to-income ratio                                                5   \n",
       "Employment history                                                  2   \n",
       "Insufficient cash (downpayment, closing costs)                      2   \n",
       "Mortgage insurance denied                                           1   \n",
       "Other                                                               5   \n",
       "Unverifiable information                                            3   \n",
       "\n",
       "                                                applicant_race_name_1  \\\n",
       "denial_reason_name_1                                                    \n",
       "Collateral                                                          6   \n",
       "Credit application incomplete                                       6   \n",
       "Credit history                                                      6   \n",
       "Debt-to-income ratio                                                6   \n",
       "Employment history                                                  5   \n",
       "Insufficient cash (downpayment, closing costs)                      6   \n",
       "Mortgage insurance denied                                           5   \n",
       "Other                                                               6   \n",
       "Unverifiable information                                            6   \n",
       "\n",
       "                                                applicant_ethnicity_name  \\\n",
       "denial_reason_name_1                                                       \n",
       "Collateral                                                             3   \n",
       "Credit application incomplete                                          3   \n",
       "Credit history                                                         3   \n",
       "Debt-to-income ratio                                                   3   \n",
       "Employment history                                                     3   \n",
       "Insufficient cash (downpayment, closing costs)                         3   \n",
       "Mortgage insurance denied                                              2   \n",
       "Other                                                                  3   \n",
       "Unverifiable information                                               3   \n",
       "\n",
       "                                                agency_name  agency_abbr  \\\n",
       "denial_reason_name_1                                                       \n",
       "Collateral                                                6            6   \n",
       "Credit application incomplete                             6            6   \n",
       "Credit history                                            6            6   \n",
       "Debt-to-income ratio                                      6            6   \n",
       "Employment history                                        6            6   \n",
       "Insufficient cash (downpayment, closing costs)            6            6   \n",
       "Mortgage insurance denied                                 6            6   \n",
       "Other                                                     6            6   \n",
       "Unverifiable information                                  6            6   \n",
       "\n",
       "                                                action_taken_name  \n",
       "denial_reason_name_1                                               \n",
       "Collateral                                                      1  \n",
       "Credit application incomplete                                   1  \n",
       "Credit history                                                  1  \n",
       "Debt-to-income ratio                                            2  \n",
       "Employment history                                              1  \n",
       "Insufficient cash (downpayment, closing costs)                  1  \n",
       "Mortgage insurance denied                                       1  \n",
       "Other                                                           2  \n",
       "Unverifiable information                                        1  \n",
       "\n",
       "[9 rows x 47 columns]"
      ]
     },
     "execution_count": 14,
     "metadata": {},
     "output_type": "execute_result"
    }
   ],
   "source": [
    "# See the different reasons up to 3 per application for why a loan was not originated\n",
    "df_test.groupby('denial_reason_name_1').apply(lambda x: x.nunique())"
   ]
  },
  {
   "cell_type": "code",
   "execution_count": 15,
   "metadata": {},
   "outputs": [],
   "source": [
    "# Add back in if we get rid of denial reasons and only focus on loan originated/not loan originated\n",
    "# Recording reasons for denial is optional, except for institutions supervised by the Office of Thrift Supervision (OTS)* or the Office of the Comptroller of the Currency (OCC).\n",
    "#df_test.drop([\"denial_reason_name_1\",\"denial_reason_name_2\", \"denial_reason_name_3\"],axis=1);"
   ]
  },
  {
   "cell_type": "code",
   "execution_count": 16,
   "metadata": {
    "scrolled": true
   },
   "outputs": [
    {
     "data": {
      "text/plain": [
       "agency_abbr\n",
       "CFPB    156375\n",
       "FDIC     13379\n",
       "FRS       9042\n",
       "HUD     127815\n",
       "NCUA     44548\n",
       "OCC      32266\n",
       "Name: respondent_id, dtype: int64"
      ]
     },
     "execution_count": 16,
     "metadata": {},
     "output_type": "execute_result"
    }
   ],
   "source": [
    "df_test.groupby('agency_abbr').respondent_id.count()#apply(lambda x: x.nunique())\n",
    "# 6 different agencies can approve these loans"
   ]
  },
  {
   "cell_type": "code",
   "execution_count": 17,
   "metadata": {},
   "outputs": [
    {
     "data": {
      "text/html": [
       "<div>\n",
       "<style scoped>\n",
       "    .dataframe tbody tr th:only-of-type {\n",
       "        vertical-align: middle;\n",
       "    }\n",
       "\n",
       "    .dataframe tbody tr th {\n",
       "        vertical-align: top;\n",
       "    }\n",
       "\n",
       "    .dataframe thead tr th {\n",
       "        text-align: left;\n",
       "    }\n",
       "\n",
       "    .dataframe thead tr:last-of-type th {\n",
       "        text-align: right;\n",
       "    }\n",
       "</style>\n",
       "<table border=\"1\" class=\"dataframe\">\n",
       "  <thead>\n",
       "    <tr>\n",
       "      <th></th>\n",
       "      <th colspan=\"8\" halign=\"left\">applicant_income_000s</th>\n",
       "      <th colspan=\"2\" halign=\"left\">application_date_indicator</th>\n",
       "      <th>...</th>\n",
       "      <th colspan=\"2\" halign=\"left\">sequence_number</th>\n",
       "      <th colspan=\"8\" halign=\"left\">tract_to_msamd_income</th>\n",
       "    </tr>\n",
       "    <tr>\n",
       "      <th></th>\n",
       "      <th>count</th>\n",
       "      <th>mean</th>\n",
       "      <th>std</th>\n",
       "      <th>min</th>\n",
       "      <th>25%</th>\n",
       "      <th>50%</th>\n",
       "      <th>75%</th>\n",
       "      <th>max</th>\n",
       "      <th>count</th>\n",
       "      <th>mean</th>\n",
       "      <th>...</th>\n",
       "      <th>75%</th>\n",
       "      <th>max</th>\n",
       "      <th>count</th>\n",
       "      <th>mean</th>\n",
       "      <th>std</th>\n",
       "      <th>min</th>\n",
       "      <th>25%</th>\n",
       "      <th>50%</th>\n",
       "      <th>75%</th>\n",
       "      <th>max</th>\n",
       "    </tr>\n",
       "    <tr>\n",
       "      <th>property_type_name</th>\n",
       "      <th></th>\n",
       "      <th></th>\n",
       "      <th></th>\n",
       "      <th></th>\n",
       "      <th></th>\n",
       "      <th></th>\n",
       "      <th></th>\n",
       "      <th></th>\n",
       "      <th></th>\n",
       "      <th></th>\n",
       "      <th></th>\n",
       "      <th></th>\n",
       "      <th></th>\n",
       "      <th></th>\n",
       "      <th></th>\n",
       "      <th></th>\n",
       "      <th></th>\n",
       "      <th></th>\n",
       "      <th></th>\n",
       "      <th></th>\n",
       "      <th></th>\n",
       "    </tr>\n",
       "  </thead>\n",
       "  <tbody>\n",
       "    <tr>\n",
       "      <th>Manufactured housing</th>\n",
       "      <td>5795.0</td>\n",
       "      <td>55.882485</td>\n",
       "      <td>143.343641</td>\n",
       "      <td>1.0</td>\n",
       "      <td>32.0</td>\n",
       "      <td>45.0</td>\n",
       "      <td>65.0</td>\n",
       "      <td>9999.0</td>\n",
       "      <td>6315.0</td>\n",
       "      <td>0.063975</td>\n",
       "      <td>...</td>\n",
       "      <td>16429.0</td>\n",
       "      <td>1205182.0</td>\n",
       "      <td>5896.0</td>\n",
       "      <td>99.457672</td>\n",
       "      <td>21.878639</td>\n",
       "      <td>15.52</td>\n",
       "      <td>87.519997</td>\n",
       "      <td>96.830002</td>\n",
       "      <td>110.050003</td>\n",
       "      <td>367.609985</td>\n",
       "    </tr>\n",
       "    <tr>\n",
       "      <th>Multifamily dwelling</th>\n",
       "      <td>0.0</td>\n",
       "      <td>NaN</td>\n",
       "      <td>NaN</td>\n",
       "      <td>NaN</td>\n",
       "      <td>NaN</td>\n",
       "      <td>NaN</td>\n",
       "      <td>NaN</td>\n",
       "      <td>NaN</td>\n",
       "      <td>5216.0</td>\n",
       "      <td>0.206863</td>\n",
       "      <td>...</td>\n",
       "      <td>9102.5</td>\n",
       "      <td>1207358.0</td>\n",
       "      <td>5127.0</td>\n",
       "      <td>106.785830</td>\n",
       "      <td>75.527495</td>\n",
       "      <td>8.31</td>\n",
       "      <td>56.900000</td>\n",
       "      <td>81.050003</td>\n",
       "      <td>123.359997</td>\n",
       "      <td>367.609985</td>\n",
       "    </tr>\n",
       "    <tr>\n",
       "      <th>One-to-four family dwelling (other than manufactured housing)</th>\n",
       "      <td>322868.0</td>\n",
       "      <td>136.438117</td>\n",
       "      <td>251.059514</td>\n",
       "      <td>1.0</td>\n",
       "      <td>58.0</td>\n",
       "      <td>90.0</td>\n",
       "      <td>140.0</td>\n",
       "      <td>9999.0</td>\n",
       "      <td>371894.0</td>\n",
       "      <td>0.326701</td>\n",
       "      <td>...</td>\n",
       "      <td>97512.5</td>\n",
       "      <td>1207313.0</td>\n",
       "      <td>371378.0</td>\n",
       "      <td>117.872128</td>\n",
       "      <td>52.133382</td>\n",
       "      <td>3.67</td>\n",
       "      <td>88.680000</td>\n",
       "      <td>107.050003</td>\n",
       "      <td>131.619995</td>\n",
       "      <td>367.609985</td>\n",
       "    </tr>\n",
       "  </tbody>\n",
       "</table>\n",
       "<p>3 rows × 96 columns</p>\n",
       "</div>"
      ],
      "text/plain": [
       "                                                   applicant_income_000s  \\\n",
       "                                                                   count   \n",
       "property_type_name                                                         \n",
       "Manufactured housing                                              5795.0   \n",
       "Multifamily dwelling                                                 0.0   \n",
       "One-to-four family dwelling (other than manufac...              322868.0   \n",
       "\n",
       "                                                                            \\\n",
       "                                                          mean         std   \n",
       "property_type_name                                                           \n",
       "Manufactured housing                                 55.882485  143.343641   \n",
       "Multifamily dwelling                                       NaN         NaN   \n",
       "One-to-four family dwelling (other than manufac...  136.438117  251.059514   \n",
       "\n",
       "                                                                            \\\n",
       "                                                    min   25%   50%    75%   \n",
       "property_type_name                                                           \n",
       "Manufactured housing                                1.0  32.0  45.0   65.0   \n",
       "Multifamily dwelling                                NaN   NaN   NaN    NaN   \n",
       "One-to-four family dwelling (other than manufac...  1.0  58.0  90.0  140.0   \n",
       "\n",
       "                                                            \\\n",
       "                                                       max   \n",
       "property_type_name                                           \n",
       "Manufactured housing                                9999.0   \n",
       "Multifamily dwelling                                   NaN   \n",
       "One-to-four family dwelling (other than manufac...  9999.0   \n",
       "\n",
       "                                                   application_date_indicator  \\\n",
       "                                                                        count   \n",
       "property_type_name                                                              \n",
       "Manufactured housing                                                   6315.0   \n",
       "Multifamily dwelling                                                   5216.0   \n",
       "One-to-four family dwelling (other than manufac...                   371894.0   \n",
       "\n",
       "                                                                 ...      \\\n",
       "                                                        mean     ...       \n",
       "property_type_name                                               ...       \n",
       "Manufactured housing                                0.063975     ...       \n",
       "Multifamily dwelling                                0.206863     ...       \n",
       "One-to-four family dwelling (other than manufac...  0.326701     ...       \n",
       "\n",
       "                                                   sequence_number             \\\n",
       "                                                               75%        max   \n",
       "property_type_name                                                              \n",
       "Manufactured housing                                       16429.0  1205182.0   \n",
       "Multifamily dwelling                                        9102.5  1207358.0   \n",
       "One-to-four family dwelling (other than manufac...         97512.5  1207313.0   \n",
       "\n",
       "                                                   tract_to_msamd_income  \\\n",
       "                                                                   count   \n",
       "property_type_name                                                         \n",
       "Manufactured housing                                              5896.0   \n",
       "Multifamily dwelling                                              5127.0   \n",
       "One-to-four family dwelling (other than manufac...              371378.0   \n",
       "\n",
       "                                                                           \\\n",
       "                                                          mean        std   \n",
       "property_type_name                                                          \n",
       "Manufactured housing                                 99.457672  21.878639   \n",
       "Multifamily dwelling                                106.785830  75.527495   \n",
       "One-to-four family dwelling (other than manufac...  117.872128  52.133382   \n",
       "\n",
       "                                                                      \\\n",
       "                                                      min        25%   \n",
       "property_type_name                                                     \n",
       "Manufactured housing                                15.52  87.519997   \n",
       "Multifamily dwelling                                 8.31  56.900000   \n",
       "One-to-four family dwelling (other than manufac...   3.67  88.680000   \n",
       "\n",
       "                                                                            \\\n",
       "                                                           50%         75%   \n",
       "property_type_name                                                           \n",
       "Manufactured housing                                 96.830002  110.050003   \n",
       "Multifamily dwelling                                 81.050003  123.359997   \n",
       "One-to-four family dwelling (other than manufac...  107.050003  131.619995   \n",
       "\n",
       "                                                                \n",
       "                                                           max  \n",
       "property_type_name                                              \n",
       "Manufactured housing                                367.609985  \n",
       "Multifamily dwelling                                367.609985  \n",
       "One-to-four family dwelling (other than manufac...  367.609985  \n",
       "\n",
       "[3 rows x 96 columns]"
      ]
     },
     "execution_count": 17,
     "metadata": {},
     "output_type": "execute_result"
    }
   ],
   "source": [
    "df_test.groupby('property_type_name').describe()"
   ]
  },
  {
   "cell_type": "markdown",
   "metadata": {},
   "source": [
    "We see there is no income data on multifamily dwellings, so we will drop these row entries. 98.2% of the data is with respect to one-to-four-family dwellings, so we will also drop rows with maufactured housing. Now all remaining row entries are for one-to-four-family dwellings. We can drop this column overall."
   ]
  },
  {
   "cell_type": "code",
   "execution_count": 18,
   "metadata": {},
   "outputs": [],
   "source": [
    "df_test = df_test.drop(df_test[df_test.property_type_name == \"Multifamily dwelling\"].index)\n",
    "df_test = df_test.drop(df_test[df_test.property_type_name == \"Manufactured housing\"].index)\n",
    "df_test.drop([\"property_type_name\"],axis=1);"
   ]
  },
  {
   "cell_type": "markdown",
   "metadata": {},
   "source": []
  },
  {
   "cell_type": "code",
   "execution_count": null,
   "metadata": {},
   "outputs": [],
   "source": []
  },
  {
   "cell_type": "markdown",
   "metadata": {},
   "source": []
  },
  {
   "cell_type": "markdown",
   "metadata": {},
   "source": [
    "It is interesting to note that each sequence number indicates a unique loan application, while each respondent id may occur more than once. "
   ]
  },
  {
   "cell_type": "code",
   "execution_count": 19,
   "metadata": {},
   "outputs": [
    {
     "data": {
      "text/plain": [
       "preapproval_name\n",
       "Not applicable                   305232\n",
       "Preapproval was not requested     57061\n",
       "Preapproval was requested          9601\n",
       "Name: sequence_number, dtype: int64"
      ]
     },
     "execution_count": 19,
     "metadata": {},
     "output_type": "execute_result"
    }
   ],
   "source": [
    "df_test.groupby('preapproval_name').sequence_number.count()"
   ]
  },
  {
   "cell_type": "code",
   "execution_count": 20,
   "metadata": {},
   "outputs": [
    {
     "data": {
      "text/plain": [
       "loan_purpose_name\n",
       "Home improvement     40547\n",
       "Home purchase       192616\n",
       "Refinancing         138731\n",
       "Name: sequence_number, dtype: int64"
      ]
     },
     "execution_count": 20,
     "metadata": {},
     "output_type": "execute_result"
    }
   ],
   "source": [
    "# most applicants requested loans in order to purchase a home\n",
    "df_test.groupby('loan_purpose_name').sequence_number.count()"
   ]
  },
  {
   "cell_type": "code",
   "execution_count": 21,
   "metadata": {},
   "outputs": [
    {
     "data": {
      "text/plain": [
       "co_applicant_race_name_5\n",
       "White    1\n",
       "Name: sequence_number, dtype: int64"
      ]
     },
     "execution_count": 21,
     "metadata": {},
     "output_type": "execute_result"
    }
   ],
   "source": [
    "df_test.groupby('co_applicant_race_name_5').sequence_number.count()"
   ]
  },
  {
   "cell_type": "code",
   "execution_count": 22,
   "metadata": {},
   "outputs": [
    {
     "data": {
      "text/plain": [
       "co_applicant_race_name_4\n",
       "Native Hawaiian or Other Pacific Islander    1\n",
       "White                                        2\n",
       "Name: sequence_number, dtype: int64"
      ]
     },
     "execution_count": 22,
     "metadata": {},
     "output_type": "execute_result"
    }
   ],
   "source": [
    "df_test.groupby('co_applicant_race_name_4').sequence_number.count()"
   ]
  },
  {
   "cell_type": "code",
   "execution_count": 23,
   "metadata": {},
   "outputs": [
    {
     "data": {
      "text/plain": [
       "co_applicant_race_name_3\n",
       "American Indian or Alaska Native              4\n",
       "Asian                                         2\n",
       "Black or African American                     4\n",
       "Native Hawaiian or Other Pacific Islander     3\n",
       "White                                        14\n",
       "Name: sequence_number, dtype: int64"
      ]
     },
     "execution_count": 23,
     "metadata": {},
     "output_type": "execute_result"
    }
   ],
   "source": [
    "df_test.groupby('co_applicant_race_name_3').sequence_number.count()"
   ]
  },
  {
   "cell_type": "code",
   "execution_count": 24,
   "metadata": {},
   "outputs": [
    {
     "data": {
      "text/plain": [
       "co_applicant_race_name_2\n",
       "American Indian or Alaska Native              12\n",
       "Asian                                         32\n",
       "Black or African American                     52\n",
       "Native Hawaiian or Other Pacific Islander     43\n",
       "White                                        259\n",
       "Name: sequence_number, dtype: int64"
      ]
     },
     "execution_count": 24,
     "metadata": {},
     "output_type": "execute_result"
    }
   ],
   "source": [
    "df_test.groupby('co_applicant_race_name_2').sequence_number.count()"
   ]
  },
  {
   "cell_type": "code",
   "execution_count": 25,
   "metadata": {},
   "outputs": [
    {
     "data": {
      "text/plain": [
       "co_applicant_race_name_1\n",
       "American Indian or Alaska Native                449\n",
       "Asian                                         10112\n",
       "Black or African American                      6755\n",
       "Native Hawaiian or Other Pacific Islander       443\n",
       "No co-applicant                              189817\n",
       "Not applicable                                39140\n",
       "White                                        108235\n",
       "Name: sequence_number, dtype: int64"
      ]
     },
     "execution_count": 25,
     "metadata": {},
     "output_type": "execute_result"
    }
   ],
   "source": [
    "df_test.groupby('co_applicant_race_name_1').sequence_number.count()"
   ]
  },
  {
   "cell_type": "markdown",
   "metadata": {},
   "source": [
    "co-applicant_race_name[2-5] are nearly blank on most row entries. We can delete these columns."
   ]
  },
  {
   "cell_type": "code",
   "execution_count": 26,
   "metadata": {},
   "outputs": [
    {
     "ename": "NameError",
     "evalue": "name 'co_applicant_race_name_5' is not defined",
     "output_type": "error",
     "traceback": [
      "\u001b[0;31m---------------------------------------------------------------------------\u001b[0m",
      "\u001b[0;31mNameError\u001b[0m                                 Traceback (most recent call last)",
      "\u001b[0;32m<ipython-input-26-bda613339783>\u001b[0m in \u001b[0;36m<module>\u001b[0;34m()\u001b[0m\n\u001b[0;32m----> 1\u001b[0;31m \u001b[0mdf_test\u001b[0m\u001b[0;34m.\u001b[0m\u001b[0mdrop\u001b[0m\u001b[0;34m(\u001b[0m\u001b[0;34m[\u001b[0m\u001b[0;34m\"co_applicant_race_name_2\"\u001b[0m\u001b[0;34m,\u001b[0m \u001b[0;34m\"co_applicant_race_name_3\"\u001b[0m\u001b[0;34m,\u001b[0m \u001b[0;34m\"co_applicant_race_name_4\"\u001b[0m\u001b[0;34m,\u001b[0m \u001b[0mco_applicant_race_name_5\u001b[0m\u001b[0;34m]\u001b[0m\u001b[0;34m,\u001b[0m\u001b[0maxis\u001b[0m\u001b[0;34m=\u001b[0m\u001b[0;36m1\u001b[0m\u001b[0;34m)\u001b[0m\u001b[0;34m;\u001b[0m\u001b[0;34m\u001b[0m\u001b[0m\n\u001b[0m",
      "\u001b[0;31mNameError\u001b[0m: name 'co_applicant_race_name_5' is not defined"
     ]
    }
   ],
   "source": [
    "df_test.drop([\"co_applicant_race_name_2\", \"co_applicant_race_name_3\", \"co_applicant_race_name_4\", co_applicant_race_name_5],axis=1);"
   ]
  },
  {
   "cell_type": "code",
   "execution_count": null,
   "metadata": {},
   "outputs": [],
   "source": [
    "df_test.groupby('application_date_indicator').sequence_number.count()"
   ]
  },
  {
   "cell_type": "markdown",
   "metadata": {},
   "source": [
    "In order to process this data and model trends in loan biases, we will only work with numeric entries. Therefore, we must encode categorical columns with numbers."
   ]
  },
  {
   "cell_type": "code",
   "execution_count": null,
   "metadata": {},
   "outputs": [],
   "source": [
    "# potential columns be encoded: \n",
    "# action_taken_name: 0 originated, 1 not originated\n",
    "# agency_name: \n",
    "# action_taken: \n",
    "# applicant_race_name_1:\n",
    "# applicant_race_name_2:\n",
    "# applicant_race_name_3:\n",
    "# applicant_race_name_4: \n",
    "# applicant_race_name_5: \n",
    "# applicant_sex_name: 0 male, 1 female\n",
    "# co_applicant_ethnicity_name:\n",
    "# co_applicant_race_name_1:\n",
    "# co_applicant_sex_name:\n",
    "# county_name:\n",
    "# hoepa_status_name:\n",
    "# lien_status_name:\n",
    "# loan_type_name:\n",
    "# purchaser_type_name:"
   ]
  },
  {
   "cell_type": "code",
   "execution_count": 44,
   "metadata": {},
   "outputs": [],
   "source": [
    "# encode categorical to numerical for processing\n",
    "def encode_action(action_type, category):\n",
    "    if action_type == category:\n",
    "        return 0\n",
    "    else: \n",
    "        return 1"
   ]
  },
  {
   "cell_type": "code",
   "execution_count": 45,
   "metadata": {},
   "outputs": [],
   "source": [
    "df_encode = df_test.copy()\n",
    "df_encode.action_taken_name = df_encode.action_taken_name.apply(lambda x: encode_action(x, 'Loan originated'))"
   ]
  },
  {
   "cell_type": "markdown",
   "metadata": {},
   "source": [
    "We will bucket income into the standard US tax brackets found at https://web.blockadvisors.com/2017-tax-brackets/ in order to control for income and consider the impact of race on loan status."
   ]
  },
  {
   "cell_type": "code",
   "execution_count": 46,
   "metadata": {},
   "outputs": [
    {
     "data": {
      "text/plain": [
       "count    378651.000000\n",
       "mean        140.145794\n",
       "std         268.471316\n",
       "min           1.000000\n",
       "25%          58.000000\n",
       "50%          90.000000\n",
       "75%         142.000000\n",
       "max        9999.000000\n",
       "Name: applicant_income_000s, dtype: float64"
      ]
     },
     "execution_count": 46,
     "metadata": {},
     "output_type": "execute_result"
    }
   ],
   "source": [
    "df_test['applicant_income_000s'].describe()"
   ]
  },
  {
   "cell_type": "code",
   "execution_count": 47,
   "metadata": {},
   "outputs": [
    {
     "name": "stdout",
     "output_type": "stream",
     "text": [
      "Number of applicants with reported income above $9.9 million: 53\n"
     ]
    }
   ],
   "source": [
    "# the max applicant income reported is 9999 thousand \n",
    "print(\"Number of applicants with reported income above $9.9 million:\", \n",
    "      df_test[df_test['applicant_income_000s'] == 9999.000000].shape[0])"
   ]
  },
  {
   "cell_type": "code",
   "execution_count": 48,
   "metadata": {
    "scrolled": true
   },
   "outputs": [
    {
     "data": {
      "text/plain": [
       "count    439654.000000\n",
       "mean        333.324287\n",
       "std        1173.204181\n",
       "min           1.000000\n",
       "25%         102.000000\n",
       "50%         208.000000\n",
       "75%         366.000000\n",
       "max       99999.000000\n",
       "Name: loan_amount_000s, dtype: float64"
      ]
     },
     "execution_count": 48,
     "metadata": {},
     "output_type": "execute_result"
    }
   ],
   "source": [
    "df_test['loan_amount_000s'].describe()"
   ]
  },
  {
   "cell_type": "code",
   "execution_count": 49,
   "metadata": {},
   "outputs": [
    {
     "name": "stdout",
     "output_type": "stream",
     "text": [
      "Number of applicants with loan requested above $99.9 million: 18\n"
     ]
    }
   ],
   "source": [
    "# the max loan amount requested is 99999 thousand which is probably an outlier or reporting error\n",
    "print(\"Number of applicants with loan requested above $99.9 million:\", \n",
    "      df_test[df_test['loan_amount_000s'] == 99999.000000].shape[0])"
   ]
  },
  {
   "cell_type": "code",
   "execution_count": 50,
   "metadata": {},
   "outputs": [],
   "source": [
    "# if you do not provide the maximum bucket value, all incomes that do not fall within these specific categories will be reported as NaN\n",
    "df_encode['income_bracket'] = pd.cut(df_test['applicant_income_000s'], [0, 18, 75, 153, 233, 416, 470, 9999])"
   ]
  },
  {
   "cell_type": "markdown",
   "metadata": {},
   "source": [
    "<font color='red'>Unfortunately exporting to csv might also ruin column types so, right now, we would have to re-do column casts in the processing notebook  </font> "
   ]
  },
  {
   "cell_type": "code",
   "execution_count": 52,
   "metadata": {},
   "outputs": [],
   "source": [
    "# download as csv for processing notebook\n",
    "df_encode.to_csv(\"encoded_loan_data.csv\", index=False)"
   ]
  },
  {
   "cell_type": "code",
   "execution_count": null,
   "metadata": {},
   "outputs": [],
   "source": []
  }
 ],
 "metadata": {
  "kernelspec": {
   "display_name": "Python 3",
   "language": "python",
   "name": "python3"
  },
  "language_info": {
   "codemirror_mode": {
    "name": "ipython",
    "version": 3
   },
   "file_extension": ".py",
   "mimetype": "text/x-python",
   "name": "python",
   "nbconvert_exporter": "python",
   "pygments_lexer": "ipython3",
   "version": "3.6.4"
  }
 },
 "nbformat": 4,
 "nbformat_minor": 2
}
