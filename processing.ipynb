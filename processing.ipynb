{
 "cells": [
  {
   "cell_type": "code",
   "execution_count": null,
   "metadata": {},
   "outputs": [],
   "source": [
    "import pandas as pd\n",
    "import numpy as np\n",
    "import matplotlib\n",
    "import matplotlib.pyplot as plt\n",
    "import csv\n",
    "import seaborn as sns\n"
   ]
  },
  {
   "cell_type": "code",
   "execution_count": null,
   "metadata": {},
   "outputs": [],
   "source": [
    "df = pd.read_csv(\"encoded_loan_data.csv\", sep=',', engine='python', error_bad_lines=False, dtype='unicode')"
   ]
  },
  {
   "cell_type": "markdown",
   "metadata": {},
   "source": [
    "Before visualizing this data we must ensure all processed data is numeric. \n",
    "<font color='red'>This will be more meaningful after enums</font> "
   ]
  },
  {
   "cell_type": "code",
   "execution_count": null,
   "metadata": {},
   "outputs": [],
   "source": [
    "(df[\"applicant_income_000s\"]).describe()"
   ]
  },
  {
   "cell_type": "code",
   "execution_count": null,
   "metadata": {},
   "outputs": [],
   "source": [
    "# applicant income histogram\n",
    "df.income_bracket.hist()\n",
    "plt.title('Applicant Income')\n",
    "plt.xlabel('All applicant incomes')\n",
    "plt.ylabel('Number of applicants')"
   ]
  },
  {
   "cell_type": "code",
   "execution_count": null,
   "metadata": {},
   "outputs": [],
   "source": [
    "numeric_cols = df_test.columns"
   ]
  },
  {
   "cell_type": "code",
   "execution_count": null,
   "metadata": {},
   "outputs": [],
   "source": [
    "assert [col in ['int64','float'] for col in [df[y].dtype for y in numeric_cols]]"
   ]
  },
  {
   "cell_type": "code",
   "execution_count": null,
   "metadata": {},
   "outputs": [],
   "source": [
    "df.applicant_race_name_1.value_counts()"
   ]
  },
  {
   "cell_type": "code",
   "execution_count": null,
   "metadata": {},
   "outputs": [],
   "source": [
    "# bucketing can't stay if we want to use plot function, need numeric data\n",
    "df[\"income_bracket\"] = df[\"income_bracket\"].replace('(0, 18]', 1)\n",
    "df[\"income_bracket\"] = df[\"income_bracket\"].replace('(18, 75]', 2)\n",
    "df[\"income_bracket\"] = df[\"income_bracket\"].replace('(75, 153]', 3)\n",
    "df[\"income_bracket\"] = df[\"income_bracket\"].replace('(153, 233]', 4)\n",
    "df[\"income_bracket\"] = df[\"income_bracket\"].replace('(233, 416]', 5)\n",
    "df[\"income_bracket\"] = df[\"income_bracket\"].replace('(416, 470]', 6)\n",
    "df[\"income_bracket\"] = df[\"income_bracket\"].replace('(470, 9999]', 7)\n"
   ]
  },
  {
   "cell_type": "code",
   "execution_count": null,
   "metadata": {},
   "outputs": [],
   "source": [
    "# need to re-cast column types right now because they are exported as csv after pre-processing\n",
    "df[\"applicant_income_000s\"]=df[\"applicant_income_000s\"].astype(float)\n",
    "df[\"action_taken_name\"]=df[\"action_taken_name\"].astype(float)\n",
    "df[\"income_bracket\"]=df[\"income_bracket\"].astype(float)\n",
    "df[\"loan_amount_000s\"] = df[\"loan_amount_000s\"].astype(float)"
   ]
  },
  {
   "cell_type": "code",
   "execution_count": null,
   "metadata": {},
   "outputs": [],
   "source": [
    "df[df.applicant_race_name_1== \"American Indian or Alaska Native\"].groupby('income_bracket').action_taken_name.plot()\n",
    "df[df.applicant_race_name_1==\"Asian\"].groupby('income_bracket').action_taken_name.plot()\n",
    "df[df.applicant_race_name_1==\"Black or African American\"].groupby('income_bracket').action_taken_name.plot()\n",
    "df[df.applicant_race_name_1==\"Native Hawaiian or Other Pacific Islander\"].groupby('income_bracket').action_taken_name.plot()\n",
    "df[df.applicant_race_name_1==\"Not applicable\"].groupby('income_bracket').action_taken_name.plot()\n",
    "df[df.applicant_race_name_1==\"White\"].groupby('income_bracket').action_taken_name.plot()\n",
    "plt.title('Loan status by income, conditional on race')\n",
    "plt.xlabel('Income')\n",
    "plt.ylabel('Loan status')\n",
    "plt.legend(['American Indian or Alaska Native', 'Asian', 'Black or African American'\n",
    "           ,'Native Hawaiian or Other Pacific Islander', 'Not applicable','White'], loc='lower right')\n",
    "\n"
   ]
  },
  {
   "cell_type": "code",
   "execution_count": null,
   "metadata": {},
   "outputs": [],
   "source": []
  },
  {
   "cell_type": "code",
   "execution_count": null,
   "metadata": {},
   "outputs": [],
   "source": []
  },
  {
   "cell_type": "code",
   "execution_count": null,
   "metadata": {},
   "outputs": [],
   "source": []
  }
 ],
 "metadata": {
  "kernelspec": {
   "display_name": "Python 3",
   "language": "python",
   "name": "python3"
  },
  "language_info": {
   "codemirror_mode": {
    "name": "ipython",
    "version": 3
   },
   "file_extension": ".py",
   "mimetype": "text/x-python",
   "name": "python",
   "nbconvert_exporter": "python",
   "pygments_lexer": "ipython3",
   "version": "3.6.4"
  }
 },
 "nbformat": 4,
 "nbformat_minor": 2
}
