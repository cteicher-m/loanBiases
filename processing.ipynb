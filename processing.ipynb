{
 "cells": [
  {
   "cell_type": "code",
   "execution_count": null,
   "metadata": {},
   "outputs": [],
   "source": [
    "import pandas as pd\n",
    "import numpy as np\n",
    "import matplotlib\n",
    "import matplotlib.pyplot as plt\n",
    "import csv\n",
    "import seaborn as sns"
   ]
  },
  {
   "cell_type": "code",
   "execution_count": null,
   "metadata": {},
   "outputs": [],
   "source": [
    "df = pd.read_csv(\"encoded_loan_data.csv\", sep=',', engine='python', error_bad_lines=False, dtype='unicode')"
   ]
  },
  {
   "cell_type": "markdown",
   "metadata": {},
   "source": [
    "Before visualizing this data we must ensure all processed data is numeric. \n",
    "<font color='red'>This will be more meaningful after enums. Added the following until we fix export to csv from pre-processing</font> "
   ]
  },
  {
   "cell_type": "code",
   "execution_count": null,
   "metadata": {},
   "outputs": [],
   "source": [
    "colToType = {\n",
    "    \"tract_to_msamd_income\" : float, \n",
    "    \"rate_spread\" : float,\n",
    "    \"population\" : int,\n",
    "    \"minority_population\" : bool,\n",
    "    \"number_of_owner_occupied_units\" : int, \n",
    "    \"number_of_1_to_4_family_units\" : int, \n",
    "    \"loan_amount_000s\" : float, \n",
    "    \"hud_median_family_income\" : float,\n",
    "    \"applicant_income_000s\" : float,\n",
    "    \"sequence_number\" : int, \n",
    "    \"census_tract_number\" : float, \n",
    "    \"as_of_year\" : int,\n",
    "    \"application_date_indicator\" : int,     \n",
    "}"
   ]
  },
  {
   "cell_type": "code",
   "execution_count": null,
   "metadata": {},
   "outputs": [],
   "source": [
    "df_test = df\n",
    "# Use Pandas drop_duplicates() as evidence that dataset is deduplicated\n",
    "print(\"Deduplicated Valid Rows: %d\\tFully Deduplicated: %r\" \n",
    "      % (len(df_test), len(df_test) == len(df_test.drop_duplicates())))\n",
    "print(\"Columns: %d\" % len(df_test.columns.values))\n",
    "\n",
    "# Convert types of columns\n",
    "for colName, colType in colToType.items():\n",
    "    if colType == int:\n",
    "        df_test[colName] = df_test[colName].apply(lambda x: x if x != 'nan' else 0).astype(int)\n",
    "    if colType == float:\n",
    "        df_test[colName] = df_test[colName].apply(lambda x: x if x != 'nan' else float('nan')).astype(float)"
   ]
  },
  {
   "cell_type": "code",
   "execution_count": null,

   "metadata": {},
   "outputs": [],
   "source": [
    "numeric_cols = df_test.columns"
   ]
  },
  {
   "cell_type": "code",
   "execution_count": null,
   "metadata": {},
   "outputs": [],
   "source": [
    "assert [col in ['int64','float'] for col in [df[y].dtype for y in numeric_cols]]"
   ]
  },
  {
   "cell_type": "code",
   "execution_count": null,
   "metadata": {},
   "outputs": [],
   "source": [
    "df.applicant_race_name_1.value_counts()"
   ]
  },
  {
   "cell_type": "code",
   "execution_count": null,
   "metadata": {},
   "outputs": [],
   "source": [
    "# bucketing can't stay if we want to use plot function, need numeric data\n",
    "df[\"income_bracket\"] = df[\"income_bracket\"].replace('(0, 18]', 1)\n",
    "df[\"income_bracket\"] = df[\"income_bracket\"].replace('(18, 75]', 2)\n",
    "df[\"income_bracket\"] = df[\"income_bracket\"].replace('(75, 153]', 3)\n",
    "df[\"income_bracket\"] = df[\"income_bracket\"].replace('(153, 233]', 4)\n",
    "df[\"income_bracket\"] = df[\"income_bracket\"].replace('(233, 416]', 5)\n",
    "df[\"income_bracket\"] = df[\"income_bracket\"].replace('(416, 470]', 6)\n",
    "df[\"income_bracket\"] = df[\"income_bracket\"].replace('(470, 9999]', 7)\n",
    "df[\"income_bracket\"] = df[\"income_bracket\"].replace('nan', -1)"
   ]
  },
  {
   "cell_type": "code",
   "execution_count": null,
   "metadata": {},
   "outputs": [],
   "source": [
    "#temporary. Need to retain changes from pre-processing somehow\n",
    "df[\"income_bracket\"] = df[\"income_bracket\"].astype('float')\n",
    "df[\"action_taken_name\"] = df[\"action_taken_name\"].astype('float')\n"
   ]
  },
  {
   "cell_type": "code",
   "execution_count": null,
   "metadata": {},
   "outputs": [],
   "source": [
    "# applicant income histogram\n",
    "df.income_bracket.hist()\n",
    "plt.title('Applicant Income')\n",
    "plt.xlabel('All applicant incomes')\n",
    "plt.ylabel('Number of applicants')"
   ]
  },
  {
   "cell_type": "code",
   "execution_count": null,
   "metadata": {},
   "outputs": [],
   "source": [
    "df[df.applicant_race_name_1== \"American Indian or Alaska Native\"].groupby('income_bracket').action_taken_name.mean().plot()\n",
    "df[df.applicant_race_name_1==\"Asian\"].groupby('income_bracket').action_taken_name.mean().plot()\n",
    "df[df.applicant_race_name_1==\"Black or African American\"].groupby('income_bracket').action_taken_name.mean().plot()\n",
    "df[df.applicant_race_name_1==\"Native Hawaiian or Other Pacific Islander\"].groupby('income_bracket').action_taken_name.mean().plot()\n",
    "#df[df.applicant_race_name_1==\"Not applicable\"].groupby('income_bracket').action_taken_name.mean().plot()\n",
    "df[df.applicant_race_name_1==\"White\"].groupby('income_bracket').action_taken_name.mean().plot()\n",
    "plt.title('Loan status by income, conditional on race')\n",
    "plt.xlabel('Income Bracket')\n",
    "plt.ylabel('Loan status')\n",
    "plt.legend(['Amrcn Indian/Alaska Ntve', 'Asian', 'Black or African American'\n",
    "           ,'Native HI/Pacific Isldr','White'], loc='upper right')\n",
    "#plt.legend(['Asian', 'Black or African American','White'], loc='upper right')\n"
   ]
  },
  {
   "cell_type": "markdown",
   "metadata": {},
   "source": [
    "Looking at the mean number of application results for each race, we see for any income bracket, aside from one of the higher income brackets, there is a consistent discrepancy between loan status and race. Black or African American applicants were denied loan applications more frequently than white applicants. The amount by which the number of applicants with originated loans differ, is inconsistent between different races and across different income brackets."
   ]
  },
  {
   "cell_type": "markdown",
   "metadata": {},
   "source": [
    "The number of Native Hawaiian or Other Pacific Islander and American Indian applicants is low. As a result the confidence intervals for the following plot will be too large in order to gauage meaningful analyses with regards to race and application status?"
   ]
  },
  {
   "cell_type": "code",
   "execution_count": null,
   "metadata": {},
   "outputs": [],
   "source": [
    "#Loan status proportions and counts by applicant race and income bracket.\n",
    "p_afram = df[df.applicant_race_name_1== \"Black or African American\"].groupby('income_bracket').action_taken_name.mean()\n",
    "n_afram = df[df.applicant_race_name_1== \"Black or African American\"].groupby('income_bracket').action_taken_name.count()\n",
    "\n",
    "p_white = df[df.applicant_race_name_1== \"White\"].groupby('income_bracket').action_taken_name.mean()\n",
    "n_white = df[df.applicant_race_name_1== \"White\"].groupby('income_bracket').action_taken_name.count()\n",
    "\n",
    "p_asian = df[df.applicant_race_name_1== \"Asian\"].groupby('income_bracket').action_taken_name.mean()\n",
    "n_asian = df[df.applicant_race_name_1== \"Asian\"].groupby('income_bracket').action_taken_name.count()\n"
   ]
  },
  {
   "cell_type": "code",
   "execution_count": null,
   "metadata": {},
   "outputs": [],
   "source": [
    "#Plot the proportions with 1-SD error bars\n",
    "x = np.arange(-1,7)\n",
    "sd_afram = 1.96*np.sqrt(p_afram*(1-p_afram)/n_afram)\n",
    "plt.vlines( x, p_afram+sd_afram, p_afram-sd_afram, color='black')\n",
    "a = plt.scatter( x, p_afram, color='black', label=\"Black\")\n",
    "\n",
    "sd_white = 1.96*np.sqrt(p_white*(1-p_white)/n_white)\n",
    "plt.vlines( x+.1, p_white+sd_white, p_white-sd_white, color='blue')\n",
    "b = plt.scatter( x+.1, p_white, color='blue', label=\"White\")\n",
    "\n",
    "sd_asian = 1.96*np.sqrt(p_asian*(1-p_asian)/n_asian)\n",
    "plt.vlines( x+.2, p_asian+sd_asian, p_asian-sd_asian, color='green')\n",
    "b = plt.scatter( x+.2, p_asian, color='green', label=\"Asian\")\n",
    "\n",
    "plt.ylabel('Probability of Loan Application Not Originated')\n",
    "plt.xlabel('Applicant Income Bracket')\n",
    "plt.legend(loc='upper right')"
   ]
  },
  {
   "cell_type": "code",
   "execution_count": null,
   "metadata": {},
   "outputs": [],
   "source": [
    "X = np.arange(-1,7)\n",
    "plt.plot(X, 100/(1+np.exp(.5*(5-X+np.random.uniform(size=8)))), color='blue')\n",
    "plt.plot(X, 100/(1+np.exp(.5*(5-X+np.random.uniform(size=8)))), color='black')\n",
    "plt.plot(X, 100/(1+np.exp(.5*(5-X+np.random.uniform(size=8)))), color='green')\n",
    "plt.title(\"Hypothetical conditional effect plot with no racial bias\")\n",
    "plt.ylabel('Probability of No Loan Origination')\n",
    "plt.xlabel('Applicant Income Bracket')\n",
    "plt.xlim(0,12)\n",
    "plt.ylim(0,100)\n",
    "plt.legend([\"White\", \"Black or AFAM\", \"Asian\"], loc='upper right')"
   ]
  },
  {
   "cell_type": "code",
   "execution_count": null,
   "metadata": {},
   "outputs": [],
   "source": [
    "X = np.arange(-1,7)\n",
    "plt.plot(X, 100/(1+np.exp(.5*(3-X+np.random.uniform(size=8)))), color='blue')\n",
    "plt.plot(X, 100/(1+np.exp(.5*(5-X+np.random.uniform(size=8)))), color='black')\n",
    "plt.plot(X, 100/(1+np.exp(.5*(5-X+np.random.uniform(size=8)))), color='green')\n",
    "plt.title(\"Hypothetical conditional effect plot, biased against blacks or afam\")\n",
    "plt.ylabel('Probability of Loan Not Originated')\n",
    "plt.xlabel('Applicant Income Bracket')\n",
    "plt.xlim(0,12)\n",
    "plt.ylim(0,100)\n",
    "plt.legend([\"White\", \"Black or AFAM\", \"Asian\"], loc='upper right')"
   ]
  },
  {
   "cell_type": "code",
   "execution_count": null,
   "metadata": {},
   "outputs": [],
   "source": [
    "X = np.arange(-1,7)\n",
    "#what is X2 numbers probably aren't right for this\n",
    "X2 = np.array([1,1,1,1,0,0,0,0,])\n",
    "plt.plot(X, 100/(1+np.exp(.5*(3-X+np.random.uniform(size=8)))), color='blue')\n",
    "plt.plot(X, 100/(1+np.exp(.5*(3-X+3*X2+np.random.uniform(size=8)))), color='black')\n",
    "plt.plot(X, 100/(1+np.exp(.5*(3-X+3*X2+np.random.uniform(size=8)))), color='green')\n",
    "plt.title(\"Hypothetical conditional effect plot, biased against low-risk black applicants\")\n",
    "plt.ylabel('Probability of Loan Not Originated')\n",
    "plt.xlabel('Applicant Income Bracket')\n",
    "plt.xlim(0,12)\n",
    "plt.ylim(0,100)\n",
    "plt.legend([\"White\", \"Black or AFAM\", \"Asian\"], loc='upper right')"
   ]
  },
  {
   "cell_type": "code",
   "execution_count": null,
   "metadata": {},
   "outputs": [],
   "source": [
    "X = np.arange(-1,7)\n",
    "#what is X2 numbers probably aren't right for this\n",
    "X2 = np.array([0,0,0,.2,.4,.8,1,1.2,])\n",
    "plt.plot(X, 100/(1+np.exp(.5*(3-X+np.random.uniform(size=8)))), color='blue')\n",
    "plt.plot(X, 100/(1+np.exp(.5*(3-X+4*X2+np.random.uniform(size=8)))), color='black')\n",
    "plt.plot(X, 100/(1+np.exp(.5*(3-X+4*X2+np.random.uniform(size=8)))), color='green')\n",
    "plt.title(\"Hypothetical conditional effects plot, biased against high-risk black applicants\")\n",
    "plt.ylabel('Probability of Loan Not Originated')\n",
    "plt.xlabel('Applicant Income Bracket')\n",
    "plt.xlim(0,12)\n",
    "plt.ylim(0,100)\n",
    "plt.legend([\"White\", \"Black or AFAM\", \"Asian\"], loc='upper right')"
   ]
  }
 ],
 "metadata": {
  "kernelspec": {
   "display_name": "Python 3",
   "language": "python",
   "name": "python3"
  },
  "language_info": {
   "codemirror_mode": {
    "name": "ipython",
    "version": 3
   },
   "file_extension": ".py",
   "mimetype": "text/x-python",
   "name": "python",
   "nbconvert_exporter": "python",
   "pygments_lexer": "ipython3",
   "version": "3.6.4"
  }
 },
 "nbformat": 4,
 "nbformat_minor": 2
}
