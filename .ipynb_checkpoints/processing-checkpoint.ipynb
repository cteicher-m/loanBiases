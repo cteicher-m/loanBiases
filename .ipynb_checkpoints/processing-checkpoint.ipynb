{
 "cells": [
  {
   "cell_type": "code",
   "execution_count": 6,
   "metadata": {},
   "outputs": [],
   "source": [
    "import pandas as pd\n",
    "import numpy as np\n",
    "import matplotlib\n",
    "import matplotlib.pyplot as plt\n",
    "import csv\n",
    "import seaborn as sns\n"
   ]
  },
  {
   "cell_type": "code",
   "execution_count": 98,
   "metadata": {},
   "outputs": [],
   "source": [
    "df = pd.read_csv(\"encoded_loan_data.csv\", sep=',', engine='python', error_bad_lines=False, dtype='unicode')"
   ]
  },
  {
   "cell_type": "markdown",
   "metadata": {},
   "source": [
    "Before visualizing this data we must ensure all processed data is numeric. \n",
    "<font color='red'>This will be more meaningful after enums</font> "
   ]
  },
  {
   "cell_type": "code",
   "execution_count": 100,
   "metadata": {},
<<<<<<< HEAD
   "outputs": [],
   "source": [
    "(df[\"applicant_income_000s\"]).describe()"
   ]
  },
  {
   "cell_type": "code",
   "execution_count": null,
   "metadata": {},
   "outputs": [],
   "source": [
    "# applicant income histogram\n",
    "df.income_bracket.hist()\n",
    "plt.title('Applicant Income')\n",
    "plt.xlabel('All applicant incomes')\n",
    "plt.ylabel('Number of applicants')"
   ]
=======
   "outputs": [
    {
     "data": {
      "text/plain": [
       "count     439654\n",
       "unique      2573\n",
       "top          nan\n",
       "freq       61003\n",
       "Name: applicant_income_000s, dtype: object"
      ]
     },
     "execution_count": 100,
     "metadata": {},
     "output_type": "execute_result"
    }
   ],
   "source": [
    "(df[\"applicant_income_000s\"]).describe()"
   ]
>>>>>>> 053d9f60443d0f3cf78c4df0a0776e065ccd6e34
  },
  {
   "cell_type": "code",
   "execution_count": 101,
   "metadata": {},
   "outputs": [
    {
     "data": {
      "text/plain": [
       "Text(0,0.5,'Number of applicants')"
      ]
     },
     "execution_count": 101,
     "metadata": {},
     "output_type": "execute_result"
    },
    {
     "data": {
      "image/png": "iVBORw0KGgoAAAANSUhEUgAAAZ8AAAEZCAYAAABICyhRAAAABHNCSVQICAgIfAhkiAAAAAlwSFlzAAALEgAACxIB0t1+/AAAADl0RVh0U29mdHdhcmUAbWF0cGxvdGxpYiB2ZXJzaW9uIDIuMS4yLCBodHRwOi8vbWF0cGxvdGxpYi5vcmcvNQv5yAAAIABJREFUeJzt3XlAVPX+//HnsJogIm7pRbuYu2QF5B6lVKSZe6AYZnpzuYnprxRCRHM3k/JClnptETTFJU3t5q6IKRrmAldb3EElFBUGFHDm8/vD63xFwVmUYfH9+EvOfM75vD6H47w5Z858jkYppRBCCCGsyKasAwghhHj0SPERQghhdVJ8hBBCWJ0UHyGEEFYnxUcIIYTVSfERQghhdVJ8xCOtsLCQTp068Y9//OOBt9WsWTOysrLYtm0b06ZNewjpijp37hwhISHFvrZmzRqGDx/+0PsUorTYlXUAIcrSli1baN68OSkpKZw4cYInn3zygbfp5+eHn5/fQ0hX1Pnz5zl16tRD364QZUGKj3ikfffdd3Tr1o2GDRvy7bffMmXKFJKSkvjkk0+oX78+J0+epEqVKsyaNYsnn3ySsLAwHB0dOX78OJcvX6Zjx45ERERgb29v2OaaNWvYtGkTCxYsIDMzk0mTJnHy5ElsbGzo378/gwYN4tChQ8yZM4eCggIyMzPp0KEDM2bMIC0tjcGDB/PCCy9w+PBhsrOzGTduHF26dCEiIoKMjAyGDh3K4sWLSxxTdHQ06enpZGZmkp6eTt26dZkzZw516tTh1KlTREZGkpWVhY2NDSNHjqRbt2788ccfTJkyhatXr6LRaBgyZAi9evUiKSmJqKgo6tWrx6lTp3jssccYNmwYsbGxnDp1ildeeYXw8HAAtm/fzhdffEFhYSFVqlQhNDSUZ599ttR/h6KCUkI8ov744w/VqlUrlZWVpQ4fPqxat26tsrKy1L59+1Tz5s3VgQMHlFJKLVu2TPXu3VsppVRoaKjq1auX0mq1Kj8/Xw0cOFDFxsYqpZRq2rSpunz5slq9erUaNmyYUkqpd999V82ePVsppVR2drZ67bXX1OnTp9XYsWPVvn37lFJKabVa1bZtW3X06FF17tw51bRpU7V9+3allFI//fSTevHFF5VSSu3bt0+99tprxY7lzj7/9a9/KT8/P5WTk6OUUmr48OFq3rx5SimlevXqpeLi4pRSSp0/f97Qzs/PT23atEkppdTFixfV888/rw4ePKj27dunWrRooVJTU5VSSg0dOlQFBgaq/Px8dfnyZdWqVSt18eJFderUKdW9e3eVlZWllFLq999/Vx07dlS5ubkP/osSlZJ85iMeWd999x2dO3emRo0atG7dGnd3d+Lj4wFo3rw5Pj4+APTt25djx45x5coVAHr37o2TkxMODg707NmTxMTEEvv4+eefCQwMBKBatWps2LCBJ554glmzZpGTk8OXX37JRx99RH5+Pnl5eQDY29vzwgsvANCyZUuuXr1q9tjatGmDs7OzYRvXrl3j6tWrHD9+nDfeeAOAevXqsXXrVi5evEh+fj6vvPIKAHXr1uWVV15h9+7dALi7u9OyZUsAGjZsSNu2bXFwcMDNzQ0nJyeuXbvGnj17+Ouvvxg8eDA9e/bkgw8+QKPRcPbsWbOzi0eDXHYTj6S8vDzWrVuHg4MDXbp0AUCr1RIXF4enpye2trb3rHN72Z2vKaWwsSn5bzg7Ozs0Go3h53PnzlGjRg2GDBlCs2bNeP755+natSuHDx9G/W+aRXt7e8M271zXHFWqVDH8W6PRoJTCzs7unm2ePHkSnU53Tz9KKW7evAmAg4PDPWO6m16vp3379nz22WeGZRcuXKBOnToW5ReVn5z5iEfS+vXrcXV1Zffu3Wzfvp3t27ezdetW8vLyyMrK4vjx4xw/fhyAFStW8Oyzz+Li4gLAf/7zHwoKCsjPz+f777+nc+fOJfbTvn17Vq9eDUBOTg5vvfUWp0+f5ujRo3zwwQe88sorXLx4kbNnz6LX6++b2dbWlsLCQovH7OzsTKtWrVi7di1wqzgMGDAAFxcX7Ozs2Lx5MwAZGRls2rSJDh06mLzt9u3bs2fPHk6cOAHArl276NGjBzdu3LA4r6jc5MxHPJK+++473n777SJnMS4uLgQHB/PNN99Qq1YtPvvsM9LT03Fzc+Pjjz82tKtSpQpBQUFkZ2fj7+9P3759S+wnMjKSyZMn8/rrr6OUYvjw4Xh6ejJs2DB69+5N1apVqVu3Ll5eXpw5c4YGDRqUuK3GjRvj6OhIv379WLlypUVnRXPnzuWjjz4iNjYWjUbD9OnTqVevHvPnz2fatGlER0ej0+l49913adeuHUlJSSZtt3HjxkyZMoX/9//+n+Es64svvsDJycnsjOLRoFFKHqkgxJ2SkpKYOnUqGzZsuOe1sLAwmjRpwtChQ8sgmRCVh1x2E0IIYXVy5iOEEMLq5MxHCCGE1ckNB/9z48YNUlJSqF27drG32QohhLiXTqcjMzMTT0/PIrf4GyPF539SUlIYOHBgWccQQogKaenSpYYvZptCis//1K5dG7i1Ax9//HGLtpGSkoKnp+fDjFVqKlJWqFh5K1JWqFh5K1JWqFh5Lc168eJFBg4caHgPNZUUn/+5fant8ccfx93d3aJtZGRkWLyutVWkrFCx8lakrFCx8lakrFCx8j5oVnM/rpAbDoQQQlidFB8hhBBWJ8VHCCGE1UnxEUIIYXVSfIQQQlidFB8hhBBWJ8VHCCGE1UnxEUIIYXXyJVMhhChHoveWTb8dHIy3eZjkzEcIIYTVSfERQghhdVJ8hBBCWJ0UHyGEEFYnxUcIIYTVyd1uQpjBtDuRvPm5FO5YCmn/8LcpRFmRMx8hhBBWJ8VHCCGE1ZVq8Tl8+DDBwcFFlq1fv57AwEDDz/Hx8fTp04eAgAB27NgBQFZWFkOGDCEoKIgxY8Zw/fp1s9sKIYQov0qt+CxatIiIiAjy8/MNy44dO8aqVatQSgGQmZlJbGwsy5cvZ/HixURFRVFQUMD8+fPp3r07y5Yto2XLlqxYscKstkIIIcq3UrvhoGHDhkRHRzN+/HgArly5wieffEJ4eDgTJ04E4MiRIzz77LM4ODjg4OBAw4YNOX78OMnJyQwfPhwAX19foqKiaNCggcltBw8efN9s0dHRxMTEFPtaSkoKGRkZFo87OTnZ4nWtrSJlhfKS17vMei7N8ZePfWuaipQVLMlbsY6xzMxMi/oqteLj7+9PWloaADqdjgkTJhAeHo6jo6OhjVarpVq1aoafnZyc0Gq1RZY7OTmRk5NjVltjQkJCCAkJKbIsLS0NPz8/PD09cXd3t2jMycnJeHuX3YFjjoqUFcpP3tK4i81UpTX+8rJvTVGRsoJleSvaMXb7fd5cVrnVOjU1lTNnzjB58mTy8/P5888/mT59Ou3atSM3N9fQLjc3l2rVquHs7Exubi5VqlQhNzcXFxcXwzJT2gohhCjfrHK3W+vWrdm4cSOxsbFERUXRuHFjJkyYQOvWrUlOTiY/P5+cnBxOnDhB06ZN8fLyYteuXQAkJCTg7e1tVlshhBDlW5l+ybR27doEBwcTFBSEUoqxY8fi6OjIyJEjCQ0NJT4+nho1ajB37lyqVq1qclshhBDlW6kWH3d3d+Lj4++7LCAggICAgCJtatWqxeLFi+/ZnjlthRBClF/yJVMhhBBWJ8VHCCGE1UnxEUIIYXVSfIQQQlidFB8hhBBWJ8VHCCGE1UnxEUIIYXVSfIQQQlidFB8hhBBWJ8VHCCGE1UnxEUIIYXVSfIQQQlidFB8hhBBWJ8VHCCGE1UnxEUIIYXVSfIQQQlidFB8hhBBWJ8VHCCGE1UnxEUIIYXVSfIQQQlhdqRafw4cPExwcDMCxY8cICgoiODiYoUOHcunSJQDi4+Pp06cPAQEB7NixA4CsrCyGDBlCUFAQY8aM4fr162a3FUIIUX6VWvFZtGgRERER5OfnAzB9+nQmTpxIbGwsL7/8MosWLSIzM5PY2FiWL1/O4sWLiYqKoqCggPnz59O9e3eWLVtGy5YtWbFihVlthRBClG92pbXhhg0bEh0dzfjx4wGIioqiTp06AOh0OhwdHTly5AjPPvssDg4OODg40LBhQ44fP05ycjLDhw8HwNfXl6ioKBo0aGBy28GDB983W3R0NDExMcW+lpKSQkZGhsXjTk5Otnhda6tIWaG85PUus55Lc/zlY9+apiJlBUvyVqxjLDMz06K+Sq34+Pv7k5aWZvj5duE5ePAgcXFxLF26lN27d1OtWjVDGycnJ7RaLVqt1rDcycmJnJycIsuMtTUmJCSEkJCQIsvS0tLw8/PD09MTd3d3i8acnJyMt3fZHTjmqEhZofzk/Xlv2fVdWuMvL/vWFBUpK1iWt6IdY3e+z5uj1IpPcX788Ue++OILFi5ciJubG87OzuTm5hpez83NpVq1aoblVapUITc3FxcXF7PaCiGEKN+sdrfbunXriIuLIzY2lgYNGgDQunVrkpOTyc/PJycnhxMnTtC0aVO8vLzYtWsXAAkJCXh7e5vVVgghRPlmlTMfnU7H9OnTqVevnuFy13PPPcfo0aMJDg4mKCgIpRRjx47F0dGRkSNHEhoaSnx8PDVq1GDu3LlUrVrV5LZCCCHKt1ItPu7u7sTHxwOwf//+YtsEBAQQEBBQZFmtWrVYvHjxA7UVQghRfsmXTIUQQlidFB8hhBBWJ8VHCCGE1RktPkeOHOHrr7+moKCAIUOG0K5dOxISEqyRTQghRCVltPhMmzaNJk2asGnTJqpUqcL333/PvHnzrJFNCCFEJWW0+Oj1ejp16sTOnTt55ZVXqFevHjqdzhrZhBBCVFJGi89jjz3GV199RVJSEp07d2bJkiU4OTlZI5sQQohKymjx+eSTT8jLy+Nf//oX1atXJyMjg6ioKGtkE0IIUUkZLT4LFy5k1KhReHl5ATBu3DgpPkIIIR5IiTMcTJgwgXPnzpGSksIff/xhWK7T6cjOzrZKOCGEEJVTicVn5MiRpKenM336dEaNGmVYbmtry5NPPmmVcEIIISqnEouPu7s77u7u/PDDD2i1WnJyclBKAZCXl4erq6vVQgohhKhcjE4sumDBAhYsWFCk2Gg0GrZt21aqwYQQQlReRovPypUr2bp1K25ubtbII4QQ4hFg9G63evXqUb16dWtkEUII8Ygweubz97//naCgINq2bYuDg4Nh+Z03IQghhBDmMFp86tatS926da2RRQghxCPCaPG5+wxHKUVaWlqpBRJCCFH5GS0+K1asYPbs2Vy/ft2wzN3dnS1btpRqMCGEEJWX0RsOFixYwLp16+jWrRtbtmwhIiKC1q1bWyObEEKISspo8alZsyYNGjSgWbNm/P777wwcOJDffvvNpI0fPnyY4OBgAM6cOcOAAQMICgpi0qRJ6PV6AGJiYujXrx/9+/fnyJEjD62tEEKI8sukRyrs27ePZs2asWPHDjIzM7lx44bRDS9atIiIiAjy8/MBmDlzJmPGjGHZsmUopdi2bRupqans37+flStXEhUVxUcfffRQ2gohhCjfjH7mExERwerVqwkNDWXVqlV07drVpNusGzZsSHR0NOPHjwcgNTWVNm3aAODr68uePXvw8PCgU6dOaDQa6tevj06nIysr64Hbvvzyy/fNFh0dTUxMTLGvpaSkkJGRYXR8JUlOTrZ4XWurSFmhvOT1LrOeS3P85WPfmqYiZQVL8lasYywzM9OivowWn6ZNm9KzZ09sbGyYMWMGKSkptG/f3uiG/f39i9wVp5RCo9EA4OTkRE5ODlqttsi0PbeXP2hbY0JCQggJCSmyLC0tDT8/Pzw9PXF3dze6jeIkJyfj7V12B445KlJWKD95f95bdn2X1vjLy741RUXKCpblrWjHmKV3P5v0MLlPPvkEgOvXrzN//nyio6PN78jm/7rKzc3FxcUFZ2dncnNziyyvVq3aA7cVQghRvhktPjt37mTRokUA1KlTh6+//prNmzeb3VHLli1JSkoCICEhAR8fH7y8vEhMTESv13P+/Hn0ej1ubm4P3FYIIUT5ZvSy282bN7lx4wZOTk4AFBYWWtRRaGgoEydOJCoqikaNGuHv74+trS0+Pj4EBgai1+uJjIx8KG2FEEKUb0aLT//+/enTpw9dunQBbp1dDBw40KSNu7u7Ex8fD4CHhwdxcXH3tCnu85eH0VYIIUT5ZbT4DB48GG9vbw4cOICdnR1z5syhZcuW1sgmhBCikirxM58dO3YAsHbtWk6cOIGbmxsuLi78/vvvrF271moBhRBCVD4lnvkcPXqUzp07Gz7Mv1uvXr1KLZQQQojKrcTiM3r0aODWDAJCCCHEw1Ri8enSpYvhy5vFkWlshBBCWKrE4hMbG2vNHEIIIR4hJRafv/3tb8Ct7/UsXbqUffv2YWdnxwsvvEC/fv2sFlAIIUTlY9LEojdu3CAgIAC9Xs+6dev4/fffmTBhgjXyCSGEqISMFp/Dhw/z008/GX7u0qUL3bt3L9VQQgghKjejc7u5u7tz5swZw8+XLl2ibt26pRpKCCFE5WbS3G49e/bEx8cHW1tbkpOTqVOnDoMGDQJgyZIlpR5SCCFE5WK0+Pzzn/8s8vPQoUNLLYwQQohHg9Hi06ZNG7Zu3cq+ffuwtbXF19eXjh07WiObEEKISsroZz6zZ8/m3//+N0888QT169dn3rx5fPnll9bIJoQQopIyeuazfft2Nm7ciJ3drab9+/enV69ejBgxotTDCSGEqJyMnvnUrl2b7Oxsw8+FhYXUqFGjVEMJIYSo3Iye+bi5udGjRw/8/Pyws7Nj9+7duLm58eGHHwIy8agQQgjzGS0+nTt3pnPnzoafPT09SzWQEEKIys9o8enduzdXr17l+vXrKKXQ6XSkpaXRvn17a+QTQghRCRktPtHR0XzzzTfcvHmTGjVqkJGRgaenJytXrjS7s8LCQsLCwkhPT8fGxoapU6diZ2dHWFgYGo2GJk2aMGnSJGxsbIiJiWHnzp3Y2dkRHh5O69atOXPmjMlthRBClF9Gi8/333/Prl27mD59OiNHjuTkyZMsW7bMos527drFzZs3Wb58OXv27OGzzz6jsLCQMWPG0LZtWyIjI9m2bRv169dn//79rFy5kgsXLhASEsLq1auZOXOmyW2FEEKUX0bvdqtTpw7Ozs40adKE48eP8+KLL3LhwgWLOvPw8ECn06HX69FqtdjZ2ZGamkqbNm0A8PX15eeffyY5OZlOnTqh0WioX78+Op2OrKwss9oKIYQov4ye+Tg7O7N27VpatWpFXFwcderU4caNGxZ1VrVqVdLT0+natStXrlzhyy+/5MCBA4Ynpjo5OZGTk4NWq8XV1dWw3u3lSimT27q5uZWYIzo6mpiYmGJfS0lJISMjw6LxASQnJ1u8rrVVpKxQXvJ6l1nPpTn+8rFvTVORsoIleSvWMZaZmWlRX0aLz/Tp09m4cSO9evVix44dREZGMmbMGIs6++abb+jUqRPvv/8+Fy5c4K233qKwsNDwem5uLi4uLjg7O5Obm1tkebVq1bCxsTG57f2EhIQQEhJSZFlaWhp+fn54enri7u5u0fiSk5Px9i67A8ccFSkrlJ+8P+8tu75La/zlZd+aoiJlBcvyVrRjLC0tzaK+jF52q1u3LkOGDAEgLCyMH374gddee82izlxcXAyFoXr16ty8eZOWLVuSlJQEQEJCAj4+Pnh5eZGYmIher+f8+fPo9Xrc3NzMaiuEEKL8Mnrm8zANHjyY8PBwgoKCKCwsZOzYsXh6ejJx4kSioqJo1KgR/v7+2Nra4uPjQ2BgIHq9nsjISABCQ0NNbiuEEKL8KrH45OXlUbVq1YfamZOTE/PmzbtneVxc3D3Lirs05uHhYXJbIYQQ5VeJl90GDhwIwOTJk62VRQghxCOixDOf69ev88EHH7B7927y8/PveV3mdBNCCGGpEovP119/TVJSEsnJyYbv1gghhBAPQ4nFp169evTq1YvmzZvz5JNPcurUKXQ6HU2aNDE820cIIYSwhNEqUlhYiL+/P66uruj1ei5dusTnn3/O008/bY18QgghKiGTvmT66aefGorNoUOHmDp1KqtWrSr1cEIIISono18yzcvLK3KW88wzzxR7A4IQQghhKqPFp3r16mzdutXw89atW4vMpSaEEEKYy+hlt6lTpzJu3DgmTJgAQIMGDZgzZ06pBxNCCFF5GS0+f//731m5ciV5eXno9XqcnZ2tkUsIIUQlZvI90w97qh0hhBCPLqOf+QghhBAPm9His3z5cmvkEEII8QgxWnyKm0VaCCGEeBBGP/N5/PHHGTRoEE8//TSOjo6G5aNGjSrVYEIIISovo8XnmWeesUYOIYQQjxCjxWfUqFHk5eVx9uxZmjZtyo0bN+TONyGEEA/E6Gc+e/fupWfPnvzzn//k8uXLdO7cmcTERGtkE0IIUUkZLT5RUVEsW7YMFxcXateuzdKlS/n444+tkU0IIUQlZbT46PV6ateubfi5cePGpRpICCFE5WfS3W47duxAo9GQnZ3N0qVLqV+/vsUdLliwgO3bt1NYWMiAAQNo06YNYWFhaDQamjRpwqRJk7CxsSEmJoadO3diZ2dHeHg4rVu35syZMya3FUIIUX4ZPfOZMmUK69ev58KFC7z00kscO3aMKVOmWNRZUlISv/76K9999x2xsbFcvHiRmTNnMmbMGJYtW4ZSim3btpGamsr+/ftZuXIlUVFRfPTRRwBmtRVCCFF+GT3zqVmzJlFRUWi1WmxtbXnssccs7iwxMZGmTZvy7rvvotVqGT9+PPHx8bRp0wYAX19f9uzZg4eHB506dUKj0VC/fn10Oh1ZWVmkpqaa3NbNzc3inJb6ucCbn/davVtC2lu/TyGEeBBGi89vv/1GWFgY58+fB6BRo0bMnj2bhg0bmt3ZlStXOH/+PF9++SVpaWmMHDkSpRQajQYAJycncnJy0Gq1RZ4ZdHu5OW3vV3yio6OJiYkp9rWUlBQyMjLMHtst3hau92CSk5Otul5ZKR95y+Z3DKU7/vKxb01TkbKCJXkr1jGWmZlpUV9Gi8+kSZMYM2YML7zwAgBbtmwhPDzcoml3XF1dadSoEQ4ODjRq1AhHR0cuXrxoeD03NxcXFxecnZ3Jzc0tsrxatWrY2NiY3PZ+QkJCCAkJKbIsLS0NPz8/PD09cXd3N3tsQJmc9QB4e5t/sCYnJ1u0XlkpL3nL6ncMlv2eTVFe9q0pKlJWsCxvRTvG0tLSLOrL6Gc++fn5hsID8PLLL6PVai3qzNvbm927d6OUIiMjg+vXr9O+fXuSkpIASEhIwMfHBy8vLxITE9Hr9Zw/fx69Xo+bmxstW7Y0ua0QQojyq8Qzn9uX2Zo3b87ChQvp168ftra2rF+/Hh8fH4s669y5MwcOHKBfv34opYiMjMTd3Z2JEycSFRVFo0aN8Pf3x9bWFh8fHwIDA9Hr9URGRgIQGhpqclshhBDlV4nF580330Sj0aCUIikpqcijFTQaDRERERZ1OH78+HuWFXcJr7hLYx4eHia3FUIIUX6VWHy2b99uzRxCCCEeIUZvODh58iTx8fFcu3atyPKZM2eWWighhBCVm0mzWnfr1o1mzZpZI48QQohHgNHi4+LiIg+OE0II8VAZLT69e/fm008/pV27dtjZ/V/z5557rlSDCSGEqLyMFp9ff/2VgwcPcvDgQcMyjUbDkiVLSjWYEEKIysto8UlNTWXz5s3WyCKEEOIRYXSGgyZNmnD8+HFrZBFCCPGIMOlW6969e1O7dm3s7e0Nk3tu27bNGvmEEEJUQkaLz+eff26NHEIIIR4hRovPgQMHil3+t7/97aGHEUII8WgwWnxuzyINUFhYSHJyMj4+PvTq1atUgwkhhKi8jBafu6fRuXr1KmPHji21QEIIISo/o3e73a1q1aqkp6eXRhYhhBCPCKNnPsHBwYZHVyulSEtLK/JwOSGEEMJcRovPnc/J0Wg01KhRg8aNG5dqKCGEEJWb0SeZuru7F/ta/fr1Sy+VEEKISs2kJ5neptFoyMzMpLCwkGPHjlkloBBCiMrH5CeZ5ubmMnv2bBITE5k6dWqpBxNCCFF5Gf3MB2Dv3r1ERETQsWNHfvjhB5ydnUs7l6ggovdaqydvfr6jr5D21upXCFEa7lt88vLymDVrluFsp2PHjg+l08uXL9OnTx+++uor7OzsCAsLQ6PR0KRJEyZNmoSNjQ0xMTHs3LkTOzs7wsPDad26NWfOnDG5rRBCiPKrxO/57N27l9dffx2A9evXP7TCU1hYSGRkJFWqVAFufYl1zJgxLFu2DKUU27ZtIzU1lf3797Ny5UqioqL46KOPzG4rhBCi/CrxzOftt9/Gzs6OxMRE9uzZY1j+oLNaz549m/79+7Nw4ULg1vOC2rRpA4Cvry979uzBw8ODTp06odFoqF+/PjqdjqysLLPaurm5WZRPCCFE6Sux+JTGIxPWrFmDm5sbzz//vKH43C5mAE5OTuTk5KDVanF1dTWsd3u5OW3vV3yio6OJiYkp9rWUlBQyMjIsHKG3hes9mOTkZKuuV1TFGvODK5vxQumOuez2p/kqUlawJG/FOsYyMzMt6qvE4lMas1avXr0ajUbD3r17OXbsGKGhoWRlZRlez83NxcXFBWdnZ3Jzc4ssr1atGjY2Nia3vZ+QkJAiX54FSEtLw8/PD09Pz2K/22SKn6324XtR3t7mH6zJyckWrXe3ijTmh6GsxgulN+aHdSxYQ0XKCpblrWjHWFpamkV9mT2324NYunQpcXFxxMbG0qJFC2bPno2vr69h5uyEhAR8fHzw8vIiMTERvV7P+fPn0ev1uLm50bJlS5PbCiGEKL9MutW6NIWGhjJx4kSioqJo1KgR/v7+2Nra4uPjQ2BgIHq9nsjISLPbCiGEKL/KrPjExsYa/h0XF3fP68VdGvPw8DC5rRBCiPLLqpfdhBBCCJDiI4QQogxI8RFCCGF1UnyEEEJYnRQfIYQQVifFRwghhNVJ8RFCCGF1UnyEEEJYnRQfIYQQVifFRwghhNVJ8RFCCGF1UnyEEEJYnRQfIYQQVifFRwigdhbRAAAaMUlEQVQhhNVJ8RFCCGF1UnyEEEJYnRQfIYQQVlfmj9EWQpgmem9pbdmbn++z7ZD2pdWveJTJmY8QQgirk+IjhBDC6qx62a2wsJDw8HDS09MpKChg5MiRNG7cmLCwMDQaDU2aNGHSpEnY2NgQExPDzp07sbOzIzw8nNatW3PmzBmT2wohhCi/rFp8fvjhB1xdXZkzZw5Xrlyhd+/eNG/enDFjxtC2bVsiIyPZtm0b9evXZ//+/axcuZILFy4QEhLC6tWrmTlzpslthRBClF9WLT6vvvoq/v7+hp9tbW1JTU2lTZs2APj6+rJnzx48PDzo1KkTGo2G+vXro9PpyMrKMqutm5ubNYcmhBDCDFYtPk5OTgBotVpGjx7NmDFjmD17NhqNxvB6Tk4OWq0WV1fXIuvl5OSglDK57f2KT3R0NDExMcW+lpKSQkZGhoUj9LZwvQeTnJxs1fWKqlhjfnBlM96yVHb7unjlLY8x5uctu2PMkn2bmZlpUV9Wv9X6woULvPvuuwQFBfH6668zZ84cw2u5ubm4uLjg7OxMbm5ukeXVqlXDxsbG5Lb3ExISQkhISJFlaWlp+Pn54enpibu7u0Vju9/tqqXJ29v8gzU5Odmi9e5Wkcb8MJTVeMtSWe3r4jys49ZaLMlblseYJfs2LS3Nor6serfbpUuXGDJkCOPGjaNfv34AtGzZkqSkJAASEhLw8fHBy8uLxMRE9Ho958+fR6/X4+bmZlZbIYQQ5ZdVz3y+/PJLsrOzmT9/PvPnzwdgwoQJTJs2jaioKBo1aoS/vz+2trb4+PgQGBiIXq8nMjISgNDQUCZOnGhSWyGEEOWXVYtPREQEERER9yyPi4u7Z1lxl8Y8PDxMbiuEEKL8ki+ZCiGEsDopPkIIIaxOio8QQgirk+IjhBDC6qT4CCGEsDp5no8QQtzl4T076f7PSnqUyZmPEEIIq5PiI4QQwuqk+AghhLA6KT5CCCGsToqPEEIIq5PiI4QQwuqk+AghhLA6KT5CCCGsToqPEEIIq5PiI4QQwupkep1KwLKpQGTaDyFE2ZEzHyGEEFYnxUcIIYTVyWU3IUS5de8lZblcXFlUiuKj1+uZPHkyv/32Gw4ODkybNo0nnniirGMJIYQoQaW47LZ161YKCgpYsWIF77//PrNmzSrrSEIIIe6jUpz5JCcn8/zzzwPwzDPPkJKSYvY2dDodABcvXrQ4R3amxasKM6WllU2/j+LvuKz2NTya+7usZDpkkmbBL/v2e+bt91BTVYrio9VqcXZ2Nvxsa2vLzZs3sbMrfnjR0dHExMQU+9rAgQNLJaN4uJaUdYBHiOzrR8OD/p4zMzPN+rijUhQfZ2dncnNzDT/r9foSCw9ASEgIISEhRZbduHGDlJQUateuja2trUU5/Pz82LZtm0XrWltFygoVK29FygoVK29FygoVK6+lWXU6HZmZmXh6epq1XqUoPl5eXuzYsYNu3bpx6NAhmjZtavY2qlSpgo+PzwNncXd3f+BtWEtFygoVK29FygoVK29FygoVK6+lWS25watSFJ+XX36ZPXv20L9/f5RSzJgxo6wjCSGEuI9KUXxsbGyYMmVKWccQQghhokpxq7UQQoiKxXby5MmTyzpEZdK2bduyjmCyipQVKlbeipQVKlbeipQVKlZea2bVKKWU1XoTQgghkMtuQgghyoAUHyGEEFYnxUcIIYTVSfERQghhdVJ8hBBCWJ0UHyGEEFYnxacSuHLlCpGRkQBs376dvn37EhgYSHx8vNF1r1+/Tv/+/Tlx4gQAhYWFvP/++/Tv35+goCBOnDjBmTNnCAgIICAgwKwsxW0foFevXgQHBxMcHMyHH34IwC+//MIbb7xBQEBAiTOO33bs2DGCgoIIDg5m6NChXLp0CYClS5fSt29f+vXrx44dOwDIy8tj5MiRBAUFMXToULKysvjll1/o2bMnY8eOtWgMxe2jkiQkJBjG+uabb9KiRQtOnDhBamoqzz//vOG1H3/8kU8//ZSOHTuSkJBgNNeGDRt444036N+/P5GRkej1enQ6HR9++CH9+/dn4MCBnD17FoA///yTAQMG0L9/fyZPnmzS1PcHDhzghRdeKLKsuN/lggULCAwMpE+fPqxcubLIsXL3fgSYOHEin3zySZFlhw8fJjg42PDz5cuXGTlyJAMHDqR///6GcZiaNzMz07Bfg4OD8fHx4bvvvuPGjRuEhIQQFBTEO++8w6lTp3j77bd59dVXDZnuzLdmzRrDNgICAnjqqafIzs7m0KFDhn1v7FhNTEykV69eDBgwgPnz5wNQUFDA+++/T0BAAEOGDOH06dNmtb3z+L29j0sas1KqyHE2d+5co/tyy5YtvP/++4afN2/ezEsvvWTYxv79+4s91sx5nwBAiQovMjJSHTt2TBUUFKiXXnpJXb16VeXn56s+ffqov/76q8T1jhw5onr37q06dOig/vzzT6WUUlu2bFGjR49WSimVmJioRo0apZRS6ty5c+qNN94wOUtJ279x44bq2bPnPev17t1bnT17Viml1JtvvqlSU1NL7GPgwIHqv//9r1JKqe+++07NmDFDXb58WXXr1k0VFBSonJwc5evrq/R6vfr6669VdHS0Ukqp1atXq6lTpyqllNq3b58aM2aMRWMoaR8Zs2jRIjV37lyllFLx8fFq8eLF97QJDQ1Vu3btum+u69evKz8/P5WXl6eUUmrs2LFq69atasuWLSosLMwwvhEjRiillBo5cqTav3+/YfubN2++b87z58+rESNGqA4dOhiWFbcf9u3bp4YPH650Op3SarXqX//6l1Lq/46VO/ejUrd+VwEBAWrOnDmGZQsXLlTdu3cvcmyFhoaqjRs3KqWU2rt3r9qxY4fZeW87ePCgCg4OVjdv3lRfffWVIeOGDRtU9+7d1bFjx9Tq1avVnDlzis132+TJk9Xy5cuVUkr16NFDnTlzRun1evWPf/xDpaSkFJtLp9OpF154wXBcv//+++rAgQMqNjZWRUREKKWUOnHihBoyZIhZbW/v+zFjxtyzj+8e8+nTp9Xw4cPvu//uNHXqVOXv71/k/0ZUVJT66aefirQr6Vgz9X1CKaXkzMcMa9as4b333mP48OF07dqVNWvWsH//fgYNGsSgQYMICAjg1KlTpKWlERgYyHvvvUefPn2YNGlSqWXSarUcPXqU5s2bc+LECRo2bEj16tVxcHDA29ubX375pcR1CwoK+Pzzz2nUqJFhmYeHBzqdDr1ej1arve+jKe6XpaTtHz9+nOvXrzNkyBAGDRrEoUOHAIiPj6dBgwbk5uai1WpxdXUtsZ+oqChatGgB3JrO3dHRETc3N9atW4e9vT2XLl3CxcUFjUbD4MGDGTlyJADnz5+nVq1aDzwGS/bRxYsXWbduHaNGjQIgJSWFnTt3MnDgQMLDw9FqtSbncnBwYPny5Tz22GMA3Lx5E0dHR1566SWmTp16z1ijo6N57rnnKCgoIDMzk5o1a5bYT35+PpMmTeLuiU+K2w+JiYk0bdqUd999lxEjRvDiiy8aXtPpdEX246+//srhw4cJDAwsst2GDRsSHR1dZNnBgwfJyMhg8ODBrF+/njZt2pidF0ApxdSpU5k8eTK2trZFHjrp5eXFmTNnDPkyMjKKzQdw9OhR/vzzTwIDA9FqtRQUFNCwYUM0Gg2dOnVi7969xWa7cuUKLi4uNGjQwNDnwYMH+fPPP/H19QWgUaNGnDhxwqy2txUWFhbZx8WNOTU1lYyMDIKDg3nnnXc4efJkifvydr9378vU1FRWr15NUFAQs2bN4ubNmyUea+aQ4mMmrVbLggUL+OKLL1i4cCF//PEHc+bMYcmSJXTp0oWffvoJgNOnTzN9+nRWrlxJQkICmZml80jGQ4cO4eHhYchWrVo1w2tOTk73fVPz9vamXr16RZZVrVqV9PR0unbtysSJE4tcDjEnS0nbr1KlCkOHDmXx4sV89NFHfPDBB4YH/x06dIjXX3+dWrVq4ebmVmI/derUAW69ScXFxTF48GAA7OzsiIuLIzAwEH9/f0N7W1tbBg0aRFxc3D2XkiwZgyX76Ouvv2bw4ME4ODgA0Lp1a8aPH8/SpUtp0KABn3/+ucm5bGxsDP/ZY2NjycvLo2PHjoZ9EBoaytSpUw37wNbWlvT0dLp3786VK1eKjO9uU6ZMYciQIdStW7fI8uL2w5UrV0hJSWHevHmG36X634QpeXl5hn7++usvYmJi7rkEB+Dv739P8U5PT8fFxYVvvvmGevXqsWjRIrPzwq1L0E2aNDEUzDv/f/z5559oNBoAsrOzSU5OLjYf3Lq0+O677xq2ceeDK52cnMjJySl2PTc3N27cuMGJEyfQ6XQkJCSQl5dHixYt2LFjB0opDh06REZGBq6uria3vX3Z9OrVq/f8Lu8ec+3atRk2bBixsbEMHz6ccePGlbgvAbp162bYL7d17NiRiRMnsnTpUvLy8li+fDlQ/LFmDik+Zrr9V0a9evUoKCigbt26TJ8+nbCwMJKSkrh58yZw6y86Z2dnbG1tqV27Nvn5+aWS58qVK4Y3orsfqpebm1ukGJnim2++oVOnTmzatIl169YRFhZmcvY7s5TEw8ODHj16oNFo8PDwwNXV1VCYn3nmGbZv307Lli1ZuHDhfbfz448/MmnSJBYuXFikUL355pvs3r2bAwcOsG/fPsPyJUuWsHTp0nseImjJGMzdR3q9np07d/Laa68Zlr388suGh2+9/PLL/Pe//zUrl16vZ/bs2ezZs4fo6OgibxizZ89m06ZNTJw4kby8PAD+9re/sXnzZgYMGMCsWbOK7SMjI4NffvmFzz//nODgYK5du1bi52IArq6udOrUCQcHBxo1aoSjoyNZWVnArbOx23l/+uknrly5wrBhw1i4cCEbNmxgzZo1991uly5dAOjSpQspKSkW5f3hhx+KfP5w5/+PixcvUqVKFeDWmU1+fn6x+bKzszl58iTt2rW7Zxtw6/+Yi4tLsfk0Gg0ff/wxkydPZvTo0Xh4eFCjRg369u2Ls7MzgwYNYseOHbRq1QpbW1uz2sKts9G7j9W7x+zp6Ymfnx8APj4+ZGRkGP5AMFXfvn1p0KABGo0GPz+/IsdqcceaqaT4mOnuvwoiIiKYMWMGs2bNok6dOoZf7N3tSkvNmjXJzs4G4Mknn+TMmTNcvXqVgoICfvnlF5599lmztufi4mIoWNWrV+fmzZsmP5v9ziwlWbVqleHNLyMjA61WS61atQgKCuLatWvArb8mbWxKPjTXrVtHXFwcsbGxhssUJ0+eZNSoUSilsLe3x8HBARsbGxYsWMDatWuBW2csxp5Sa8oYzN1Hv//+Ox4eHoY3O4ChQ4dy5MgRAPbu3UurVq3MyhUZGUl+fj7z5883XH5bu3YtCxYsAOCxxx5Do9Fga2vLiBEjDB9q32/f1q1bl02bNhEbG0tsbCzVq1fn008/LTGTt7c3u3fvRilFRkYG169fN1wutbOzM+QdNGgQa9asITY2lmHDhtG9e3f69Olz3+3u2rULuHUjQePGjS3Km5qaipeXl+FnLy8vw3bT0tKoUaMGcOsv+969exeb78CBA3To0MGwDWdnZ+zt7Tl79ixKKRITE+/7EMqEhAQWLFhATEwMZ8+epUOHDhw9ehRvb29iY2N56aWXDMewOW0BHB0d7zlW7x5zTEwM3377LXDrknf9+vXNem9SStGjRw8uXrwI/N+xWtKxZo5K8TyfstSzZ08CAgJwcXGhVq1a/PXXX1bt/+mnnzbcnWNvb09YWBhDhw5FKUXfvn2pW7cux44dY82aNUyYMMHo9gYPHkx4eDhBQUEUFhYyduxYqlataviL1tQsJenXrx8ffvghAwYMQKPRMGPGDOzt7RkyZAjvvPMODg4O1K5dm2nTpgEQHBxMbGysYX2dTsf06dOpV6+e4SzmueeeY/To0TRv3pzAwEA0Gg3PP/88bdq0oVGjRoSGhrJ69Wp0Op3RBw2aMoaS9tHtv5bvfmM9depUkTcNgMmTJzN16lTs7e2pVauW4fq5KblSU1NZtWoVPj4+vPXWW8CtN/hXXnmFDz/8kIEDB3Lz5k3Cw8NxdHRk2LBhhIWFYW9vz2OPPWbYt2PHjiU8PJzatWvft++SdO7cmQMHDtCvXz+UUkRGRhregKpWrcpvv/1m0XZDQ0OJiIhg+fLlODs7G+7QMidvVlYWTk5ORd5oBwwYQGhoKAMGDMDGxgZ7e3uj2zl16tQ9T/e8fYlRp9PRqVMnnn76aTIzM5kxY8Y9xfrxxx9nwIABVKlShddff50mTZqQlZXFvHnz+Oqrr6hWrRrTp083uy3cOkO8cx8XN+Zhw4Yxbtw4du3aha2tLTNnzgRg+vTp9OnTx/DZaUk0Gg3Tpk1j1KhRVKlShSeffJKAgAAKCwuLPdbMYvJtEKLcmjhx4n3vDsvNzTXcZWUpU+9iMZbFXLfvTnvY7ne3m6VjOHbsmFq5cuUD5brf3W4Pe9/OnTtX5ebmPrTt3Xb7WCnveW/nu32324MoLCxUM2fOfEjJjLt9/Fq6j5csWaJOnz790HOZc7ebFJ9K4NKlS2rChAklvp6dna1ycnIs3v7p06fVG2+8YdJBZSyLuc6fP//QtnXbgQMHVI8ePUosPpaO4cKFC0qv11ucKyoqSnXo0KHE4vOw9216evpD29Ztdx4r5T3vpUuX1FtvvaX8/f0fuPgUFBTc92sND9Odx6+l+7i0f/emkOf5CCGEsDq54UAIIYTVSfERQghhdVJ8hBBCWJ0UH/FI+P3332nWrBmbNm0yLOvSpQtpaWmsWbOGsLCwUus7OjraMIVMz549H+q24+Pj2bBhwz3L582bx7Zt2x5qX0I8TFJ8xCNh9erVvPrqq6xYsaJMc6xbt+6hbu/gwYMUFBTcs/y9994zfLNdiPJIvmQqKr3CwkLWr1/P0qVLDVP0N2zY0Oh6//nPf/j666+5ceMGBQUFzJgxAy8vL4KDg2nevDm//PIL+fn5hIeH06lTJ8LCwnB0dOTo0aPk5uYycuRIevXqVWSbzZo147fffuPq1atMmDCBkydP4uDgQFhYGO3btycuLo5169Zx/fp17O3tmTt3Lo0aNaJLly706NGDxMRErl+/zuzZs8nOzmb79u3s27eP2rVrGybNBAgLC6NNmza0adOGUaNG0aRJE44dO0bNmjWZN28erq6urF+/ni+++AKNRsNTTz3F1KlTuXnzJhEREfz2229oNBqGDh1Kr169WLNmDTt37uTq1av89ddf9O/fn/T0dPbt24erqyv//ve/cXR0ZO3atXz77bfo9XpatWrFpEmTsLGxITw8nD/++AOAoKAg06fdF5WWnPmISm/Xrl3Ur18fDw8PXnrpJZPOfvR6PcuXL+fLL7/khx9+4B//+EeR+ea0Wi3ff/89c+fOJSwszHD2ce7cOVasWMG3337Lxx9/XOKEsvPmzaNhw4b85z//4eOPP+azzz5Dq9WydetWYmNj2bBhAy+++CJLly41rOPq6sqqVavo378/CxYsoEOHDnTp0oXRo0cXKTx3O378OG+//TYbNmzAxcWF9evXk5GRwcyZM/nqq6/YuHEjOp2OXbt2ER0dTY0aNdiwYQPffvst0dHRHD9+HLg1B9r8+fNZvHgxM2fOxNfXl/Xr1wOwe/du/vjjD+Lj41m+fDnr1q2jZs2aLF68mF9//ZVr164ZpmS530zr4tEhZz6i0lu9ejXdu3cHbs3a+8EHH/Dee+/ddx0bGxs+//xztm/fzqlTp9i/f3+ROdFu/+XeokULateubZjmpE+fPtjb2/P444/j5eVFcnJysds/cOCAYbqcZs2aGQri3Llz2bhxI6dPn2b37t1Fpj+5XWCaNGnC5s2bTR5/zZo1admypWHda9eu8euvv+Ll5cXjjz8OwJw5cwCYP3++YQoiNzc3/Pz82L9/P87Oznh5eeHs7GyY1bl9+/bArUlLs7OzSUpKMjxQDG6dcbZs2ZIBAwZw6tQphg4diq+vL+PHjzc5u6i8pPiISu3y5cvs3r2b1NRUlixZglKK7OxstmzZct/1cnNz6devHz169OC5556jWbNmRc5C7pxEUa/XGx4LUNLyu9nZ2RWZg+vEiRNUqVKFt956izfffBNfX19q1arFsWPHDG1uz51l7qS1d865pdFoUErd0//tufvu/s65Usowaerdc6HdPTadTkfXrl2JiIgAbu1DnU6Hi4sLGzduZM+ePezatYvevXuzcePGEmeDFo8GuewmKrV169bRrl07EhIS2L59Ozt27GDEiBGGZ5KU5PTp02g0GkaMGEHbtm3ZsmVLkZmrf/zxR+DWpajs7GyaNm0K3PqcSClFeno6R44cwdvbu9jt+/j4sHHjRuBW4XnnnXdISUnhiSeeYPDgwTz11FNs3brV6Izitra2Js86fqennnqKQ4cOGS4Lzpgxg23bttGuXTtWrVoF3CpI27Ztu+/D3O50ez9dvnwZpRSTJ0/m22+/Zdu2bYwbN44XX3yRiIgIqlatyoULF8zOLCoXOfMRldr3339/zzNpBg4cyL///e8iDwW7W/PmzWnRogVdu3Y1PLHyzkto586do3fv3gB8+umnhjOeGzdu0LdvXwoKCpgyZYph2v67jR49moiICHr06IGdnR0ff/wxLVq0YPny5XTr1g2lFM8995zhQ/qSdOjQgaioKKpVq8arr75q0j6BW48jmDBhAkOHDkWv1/PMM8/Qp08frl+/zuTJk3n99dfR6XSMGDGCVq1amTRDdfPmzRk1ahRvvfUWer2eFi1aMGzYMGxsbNi8eTOvvfYajo6O9OjRg2bNmpmcVVROMrebEGYKDg5m1KhRtG3btsjy23eY3e9ZNUKIW+SymxBCCKuTMx8hhBBWJ2c+QgghrE6KjxBCCKuT4iOEEMLqpPgIIYSwOik+QgghrO7/A4qMdl3T7WrsAAAAAElFTkSuQmCC\n",
      "text/plain": [
       "<matplotlib.figure.Figure at 0x1ab0aa7438>"
      ]
     },
     "metadata": {},
     "output_type": "display_data"
    }
   ],
   "source": [
    "# applicant income histogram\n",
    "df.income_bracket.hist()\n",
    "plt.title('Applicant Income')\n",
    "plt.xlabel('All applicant incomes')\n",
    "plt.ylabel('Number of applicants')"
   ]
  },
  {
   "cell_type": "code",
   "execution_count": 13,
   "metadata": {},
   "outputs": [],
   "source": [
    "numeric_cols = df_test.columns"
   ]
  },
  {
   "cell_type": "code",
   "execution_count": 15,
   "metadata": {},
   "outputs": [],
   "source": [
    "assert [col in ['int64','float'] for col in [df[y].dtype for y in numeric_cols]]"
<<<<<<< HEAD
   ]
  },
  {
   "cell_type": "code",
   "execution_count": null,
   "metadata": {},
   "outputs": [],
   "source": [
    "df.applicant_race_name_1.value_counts()"
   ]
  },
  {
   "cell_type": "code",
   "execution_count": null,
   "metadata": {},
   "outputs": [],
   "source": [
    "# bucketing can't stay if we want to use plot function, need numeric data\n",
    "df[\"income_bracket\"] = df[\"income_bracket\"].replace('(0, 18]', 1)\n",
    "df[\"income_bracket\"] = df[\"income_bracket\"].replace('(18, 75]', 2)\n",
    "df[\"income_bracket\"] = df[\"income_bracket\"].replace('(75, 153]', 3)\n",
    "df[\"income_bracket\"] = df[\"income_bracket\"].replace('(153, 233]', 4)\n",
    "df[\"income_bracket\"] = df[\"income_bracket\"].replace('(233, 416]', 5)\n",
    "df[\"income_bracket\"] = df[\"income_bracket\"].replace('(416, 470]', 6)\n",
    "df[\"income_bracket\"] = df[\"income_bracket\"].replace('(470, 9999]', 7)\n"
   ]
  },
  {
   "cell_type": "code",
   "execution_count": null,
   "metadata": {},
   "outputs": [],
   "source": [
    "# need to re-cast column types right now because they are exported as csv after pre-processing\n",
    "df[\"applicant_income_000s\"]=df[\"applicant_income_000s\"].astype(float)\n",
    "df[\"action_taken_name\"]=df[\"action_taken_name\"].astype(float)\n",
    "df[\"income_bracket\"]=df[\"income_bracket\"].astype(float)\n",
    "df[\"loan_amount_000s\"] = df[\"loan_amount_000s\"].astype(float)"
=======
>>>>>>> 053d9f60443d0f3cf78c4df0a0776e065ccd6e34
   ]
  },
  {
   "cell_type": "code",
   "execution_count": 34,
   "metadata": {},
   "outputs": [
    {
     "data": {
      "text/plain": [
       "White                                        234914\n",
       "nan                                           33887\n",
       "Asian                                         22174\n",
       "Black or African American                     21182\n",
       "Not applicable                                14261\n",
       "American Indian or Alaska Native               1282\n",
       "Native Hawaiian or Other Pacific Islander       963\n",
       "Name: applicant_race_name_1, dtype: int64"
      ]
     },
     "execution_count": 34,
     "metadata": {},
     "output_type": "execute_result"
    }
   ],
   "source": [
    "df.applicant_race_name_1.value_counts()"
   ]
  },
  {
   "cell_type": "code",
   "execution_count": 102,
   "metadata": {},
   "outputs": [],
   "source": [
    "# bucketing can't stay if we want to use plot function, need numeric data\n",
    "df[\"income_bracket\"] = df[\"income_bracket\"].replace('(0, 18]', 1)\n",
    "df[\"income_bracket\"] = df[\"income_bracket\"].replace('(18, 75]', 2)\n",
    "df[\"income_bracket\"] = df[\"income_bracket\"].replace('(75, 153]', 3)\n",
    "df[\"income_bracket\"] = df[\"income_bracket\"].replace('(153, 233]', 4)\n",
    "df[\"income_bracket\"] = df[\"income_bracket\"].replace('(233, 416]', 5)\n",
    "df[\"income_bracket\"] = df[\"income_bracket\"].replace('(416, 470]', 6)\n",
    "df[\"income_bracket\"] = df[\"income_bracket\"].replace('(470, 9999]', 7)\n"
   ]
  },
  {
   "cell_type": "code",
   "execution_count": 104,
   "metadata": {},
   "outputs": [],
   "source": [
<<<<<<< HEAD
    "df[df.applicant_race_name_1== \"American Indian or Alaska Native\"].groupby('income_bracket').action_taken_name.plot()\n",
    "df[df.applicant_race_name_1==\"Asian\"].groupby('income_bracket').action_taken_name.plot()\n",
    "df[df.applicant_race_name_1==\"Black or African American\"].groupby('income_bracket').action_taken_name.plot()\n",
    "df[df.applicant_race_name_1==\"Native Hawaiian or Other Pacific Islander\"].groupby('income_bracket').action_taken_name.plot()\n",
    "df[df.applicant_race_name_1==\"Not applicable\"].groupby('income_bracket').action_taken_name.plot()\n",
    "df[df.applicant_race_name_1==\"White\"].groupby('income_bracket').action_taken_name.plot()\n",
    "plt.title('Loan status by income, conditional on race')\n",
    "plt.xlabel('Income')\n",
    "plt.ylabel('Loan status')\n",
    "plt.legend(['American Indian or Alaska Native', 'Asian', 'Black or African American'\n",
    "           ,'Native Hawaiian or Other Pacific Islander', 'Not applicable','White'], loc='lower right')\n",
=======
    "# need to re-cast column types right now because they are exported as csv after pre-processing\n",
    "df[\"applicant_income_000s\"]=df[\"applicant_income_000s\"].astype(float)\n",
    "df[\"action_taken_name\"]=df[\"action_taken_name\"].astype(float)\n",
    "df[\"income_bracket\"]=df[\"income_bracket\"].astype(float)\n",
    "df[\"loan_amount_000s\"] = df[\"loan_amount_000s\"].astype(float)"
   ]
  },
  {
   "cell_type": "code",
   "execution_count": 105,
   "metadata": {},
   "outputs": [
    {
     "data": {
      "text/plain": [
       "<matplotlib.legend.Legend at 0x1ab0a1e710>"
      ]
     },
     "execution_count": 105,
     "metadata": {},
     "output_type": "execute_result"
    },
    {
     "data": {
      "image/png": "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\n",
      "text/plain": [
       "<matplotlib.figure.Figure at 0x1a51528630>"
      ]
     },
     "metadata": {},
     "output_type": "display_data"
    }
   ],
   "source": [
    "# df[df.applicant_race_name_1== \"American Indian or Alaska Native\"].groupby('income_bracket').action_taken_name.plot()\n",
    "# df[df.applicant_race_name_1==\"Asian\"].groupby('income_bracket').action_taken_name.plot()\n",
    "# df[df.applicant_race_name_1==\"Black or African American\"].groupby('income_bracket').action_taken_name.plot()\n",
    "# df[df.applicant_race_name_1==\"Native Hawaiian or Other Pacific Islander\"].groupby('income_bracket').action_taken_name.plot()\n",
    "# df[df.applicant_race_name_1==\"Not applicable\"].groupby('income_bracket').action_taken_name.plot()\n",
    "# df[df.applicant_race_name_1==\"White\"].groupby('income_bracket').action_taken_name.plot()\n",
    "# plt.title('Loan status by income, conditional on race')\n",
    "# plt.xlabel('Income')\n",
    "# plt.ylabel('Loan status')\n",
    "# plt.legend(['American Indian or Alaska Native', 'Asian', 'Black or African American'\n",
    "#            ,'Native Hawaiian or Other Pacific Islander', 'Not applicable','White'], loc='lower right')\n",
>>>>>>> 053d9f60443d0f3cf78c4df0a0776e065ccd6e34
    "\n"
   ]
  },
  {
   "cell_type": "code",
   "execution_count": null,
   "metadata": {},
   "outputs": [],
   "source": []
  },
  {
   "cell_type": "code",
   "execution_count": null,
   "metadata": {},
   "outputs": [],
   "source": []
  },
  {
   "cell_type": "code",
   "execution_count": null,
   "metadata": {},
   "outputs": [],
   "source": []
  }
 ],
 "metadata": {
  "kernelspec": {
   "display_name": "Python 3",
   "language": "python",
   "name": "python3"
  },
  "language_info": {
   "codemirror_mode": {
    "name": "ipython",
    "version": 3
   },
   "file_extension": ".py",
   "mimetype": "text/x-python",
   "name": "python",
   "nbconvert_exporter": "python",
   "pygments_lexer": "ipython3",
   "version": "3.6.4"
  }
 },
 "nbformat": 4,
 "nbformat_minor": 2
}
