{
 "cells": [
  {
   "cell_type": "markdown",
   "metadata": {},
   "source": [
    "We seek to answer the question:\n",
    "### Is algorithmic lending racially biased?\n",
    "\n",
    "\n",
    "Before we look for loan biases in this housing data we must import and clean the data set so that we can perform analyses. <font color='red'>We need a data dictionary, I have found some that aren't great and don't totally match our data set but are released by HMDA affiliates.</font> \n",
    "### Import Data"
   ]
  },
  {
   "cell_type": "code",
   "execution_count": 33,
   "metadata": {},
   "outputs": [],
   "source": [
    "import pandas as pd\n",
    "import numpy as np\n",
    "import matplotlib.pyplot as plt\n",
    "import csv\n",
    "import hashlib\n",
    "from functools import reduce\n",
    "import enum\n",
    "\n",
    "# Get the total number of rows in the data set prior to filtering out bad, missing, or corrupt lines\n",
    "# use the number to compare the size of the data set after filtering \n",
    "columnNames = []\n",
    "with open('headers.txt', 'r') as headerFile:\n",
    "    headerReader = csv.reader(headerFile, delimiter=',')\n",
    "    for row in headerReader:\n",
    "        columnNames.append(row[1])\n",
    "        \n",
    "numCols = len(columnNames)"
   ]
  },
  {
   "cell_type": "markdown",
   "metadata": {},
   "source": [
    "https://www.ffiec.gov/hmda/glossary.htm contains explanations of many columns and acronyms"
   ]
  },
  {
   "cell_type": "code",
   "execution_count": 2,
   "metadata": {},
   "outputs": [
    {
     "name": "stdout",
     "output_type": "stream",
     "text": [
      "Dropped: 0 Missing: 0   Kept: 439655   Total: 439655\n"
     ]
    }
   ],
   "source": [
    "invalidCols = 0; duplicateRows = 0; keptRows = 0; missingCols = 0; totalRows = 0\n",
    "onHeader = True\n",
    "rows = set()\n",
    "with open('hmda_lar.csv', 'r') as dataFile:\n",
    "    with open('valid_rows_sample_small.csv', 'w') as outFile:\n",
    "        dataReader = csv.reader(dataFile, delimiter=',')\n",
    "        outWriter = csv.writer(outFile, delimiter = ',')\n",
    "        for row in dataReader:\n",
    "            # Skip the header line\n",
    "            totalRows += 1\n",
    "            # Ignore rows with incorrect number of columns\n",
    "            if len(row) != numCols:\n",
    "                invalidCols += 1\n",
    "                continue \n",
    "            else:\n",
    "                # Ignore rows where more than 1/2 of the entries are missing\n",
    "                # Count the number of nan's in a row\n",
    "                missingFields = reduce(lambda x, y: x + int(y == \"\"), row, 0) # do not change \"\" to ''\n",
    "                if missingFields >= int(0.5 * numCols):\n",
    "                    missingCols += 1\n",
    "                    continue\n",
    "                else:\n",
    "                    keptRows += 1\n",
    "                    outWriter.writerow(row)\n",
    "print(\"Dropped: %d Missing: %d   Kept: %d   Total: %d\" % (invalidCols, missingCols,\n",
    "                                                                             keptRows, totalRows))\n",
    "\n",
    "# If we only drop duplicates that match on all fields these are the results.   \n",
    "# Dropped:     Duplicates:     De-duplicated:     Total:    "
   ]
  },
  {
   "cell_type": "code",
   "execution_count": 3,
   "metadata": {},
   "outputs": [],
   "source": [
    "df_dup = pd.read_csv(\"valid_rows_sample_small.csv\", sep=',', engine='python', error_bad_lines=False, dtype='unicode')"
   ]
  },
  {
   "cell_type": "code",
   "execution_count": 4,
   "metadata": {},
   "outputs": [
    {
     "name": "stdout",
     "output_type": "stream",
     "text": [
      "Duplicates: 0\n"
     ]
    }
   ],
   "source": [
    "df_dedup = df_dup.drop_duplicates(keep='first');\n",
    "duplicateRows = df_dup.shape[0]- df_dedup.shape[0]\n",
    "print(\"Duplicates: %d\" % duplicateRows)"
   ]
  },
  {
   "cell_type": "code",
   "execution_count": 5,
   "metadata": {},
   "outputs": [
    {
     "data": {
      "text/plain": [
       "True"
      ]
     },
     "execution_count": 5,
     "metadata": {},
     "output_type": "execute_result"
    }
   ],
   "source": [
    "# Guarantees all rows are accounted for after filtering data\n",
    "invalidCols + duplicateRows + missingCols + keptRows == totalRows"
   ]
  },
  {
   "cell_type": "markdown",
   "metadata": {},
   "source": [
    "The following object contains suggested data types for the corresponding columns. The column headers not in this object are best represented as strings"
   ]
  },
  {
   "cell_type": "code",
   "execution_count": 6,
   "metadata": {},
   "outputs": [],
   "source": [
    "colToType = {\n",
    "    \"tract_to_msamd_income\" : float, \n",
    "    \"rate_spread\" : float,\n",
    "    \"population\" : int,\n",
    "    \"minority_population\" : bool,\n",
    "    \"number_of_owner_occupied_units\" : int, \n",
    "    \"number_of_1_to_4_family_units\" : int, \n",
    "    \"loan_amount_000s\" : float, \n",
    "    \"hud_median_family_income\" : float,\n",
    "    \"applicant_income_000s\" : float,\n",
    "    \"sequence_number\" : int, \n",
    "    \"census_tract_number\" : float, \n",
    "    \"as_of_year\" : int,\n",
    "    \"application_date_indicator\" : int,     \n",
    "}"
   ]
  },
  {
   "cell_type": "code",
   "execution_count": 7,
   "metadata": {},
   "outputs": [
    {
     "name": "stdout",
     "output_type": "stream",
     "text": [
      "Deduplicated Valid Rows: 439654\tFully Deduplicated: True\n",
      "Columns: 47\n"
     ]
    }
   ],
   "source": [
    "df_test = df_dedup\n",
    "# Use Pandas drop_duplicates() as evidence that dataset is deduplicated\n",
    "print(\"Deduplicated Valid Rows: %d\\tFully Deduplicated: %r\" \n",
    "      % (len(df_test), len(df_test) == len(df_test.drop_duplicates())))\n",
    "print(\"Columns: %d\" % len(df_test.columns.values))\n",
    "\n",
    "# Convert types of columns\n",
    "for colName, colType in colToType.items():\n",
    "    if colType == int:\n",
    "        df_test[colName] = df_test[colName].apply(lambda x: x if x != 'nan' else 0).astype(int)\n",
    "    if colType == float:\n",
    "        df_test[colName] = df_test[colName].apply(lambda x: x if x != 'nan' else float('nan')).astype(float)"
   ]
  },
  {
   "cell_type": "markdown",
   "metadata": {},
   "source": [
    "Some fields may have values that are incompatible types. This may occur when no data is stored for a variable, a user did not complete the course or course registration, or a column may contain multiple data types. A string representation of an age cannot be compared to a number. If a user inputted N/A, or left that field blank, it is interpreted differently as NA, na, NaN. In this data set, missing information is encoded as \"Information not provided by applicant in mail, Internet, or telephone application\" as well."
   ]
  },
  {
   "cell_type": "code",
   "execution_count": 21,
   "metadata": {},
   "outputs": [],
   "source": [
    "df_test.replace(\"nan\", np.nan, inplace=True)\n",
    "df_test.replace(\"None\", np.nan, inplace=True)\n",
    "df_test.replace(\"Information not provided by applicant in mail, Internet, or telephone application\", np.nan, inplace=True)"
   ]
  },
  {
   "cell_type": "code",
   "execution_count": 9,
   "metadata": {},
   "outputs": [],
   "source": [
    "# this data set is specific to New York State in 2015 so there is no need to keep the state name, year, and abbrevation NY\n",
    "df_test.drop([\"state_name\",\"state_abbr\", \"as_of_year\"],axis=1);"
   ]
  },
  {
   "cell_type": "code",
   "execution_count": 25,
   "metadata": {},
   "outputs": [
    {
     "data": {
      "text/plain": [
       "lien_status_name\n",
       "Not applicable                    61490\n",
       "Not secured by a lien             23620\n",
       "Secured by a first lien          340272\n",
       "Secured by a subordinate lien     14272\n",
       "Name: respondent_id, dtype: int64"
      ]
     },
     "execution_count": 25,
     "metadata": {},
     "output_type": "execute_result"
    }
   ],
   "source": [
    "df_test.groupby('lien_status_name').respondent_id.count()"
   ]
  },
  {
   "cell_type": "markdown",
   "metadata": {},
   "source": [
    "get rid of: application withdrawn, file closed for incompleteness"
   ]
  },
  {
   "cell_type": "code",
   "execution_count": 26,
   "metadata": {},
   "outputs": [
    {
     "data": {
      "text/plain": [
       "action_taken_name\n",
       "Application approved but not accepted                   14180\n",
       "Application denied by financial institution             79697\n",
       "Application withdrawn by applicant                      39496\n",
       "File closed for incompleteness                          16733\n",
       "Loan originated                                        228054\n",
       "Loan purchased by the institution                       61490\n",
       "Preapproval request denied by financial institution         4\n",
       "Name: respondent_id, dtype: int64"
      ]
     },
     "execution_count": 26,
     "metadata": {},
     "output_type": "execute_result"
    }
   ],
   "source": [
    "# list(df_test.action_taken_name.values).unique()\n",
    "df_test.groupby('action_taken_name').respondent_id.count()"
   ]
  },
  {
   "cell_type": "markdown",
   "metadata": {},
   "source": [
    "A bank loan that gets approved is considered \"originated\" and is indicated under the \"action_taken_name\" column. A loan may not originated due to 1 of 6 options: the loan application was approved but not accepted, application denied by financial institution, application withdrawn by applicant, file closed for incompleteness, loan purchased by the institution, preapproval request denied by finanical institution. We are only interested in analyzing if a loan application was submitted and if that application was approved or not approved. Therefore, we can remove columns that provide additional information about action taken following a loan that was not approved, or if an application was not completed/withdrawn."
   ]
  },
  {
   "cell_type": "code",
   "execution_count": 31,
   "metadata": {},
   "outputs": [],
   "source": [
    "df_test = df_test.drop(df_test[df_test.action_taken_name == \"Application withdrawn by applicant\"].index)\n",
    "df_test = df_test.drop(df_test[df_test.action_taken_name == \"File closed for incompleteness\"].index)"
   ]
  },
  {
   "cell_type": "code",
   "execution_count": 32,
   "metadata": {},
   "outputs": [
    {
     "data": {
      "text/plain": [
       "action_taken_name\n",
       "Application approved but not accepted                   14180\n",
       "Application denied by financial institution             79697\n",
       "Loan originated                                        228054\n",
       "Loan purchased by the institution                       61490\n",
       "Preapproval request denied by financial institution         4\n",
       "Name: respondent_id, dtype: int64"
      ]
     },
     "execution_count": 32,
     "metadata": {},
     "output_type": "execute_result"
    }
   ],
   "source": [
    "df_test.groupby('action_taken_name').respondent_id.count()"
   ]
  },
  {
   "cell_type": "markdown",
   "metadata": {},
   "source": [
    "add enums"
   ]
  },
  {
   "cell_type": "code",
   "execution_count": 12,
   "metadata": {},
   "outputs": [
    {
     "data": {
      "text/html": [
       "<div>\n",
       "<style scoped>\n",
       "    .dataframe tbody tr th:only-of-type {\n",
       "        vertical-align: middle;\n",
       "    }\n",
       "\n",
       "    .dataframe tbody tr th {\n",
       "        vertical-align: top;\n",
       "    }\n",
       "\n",
       "    .dataframe thead th {\n",
       "        text-align: right;\n",
       "    }\n",
       "</style>\n",
       "<table border=\"1\" class=\"dataframe\">\n",
       "  <thead>\n",
       "    <tr style=\"text-align: right;\">\n",
       "      <th></th>\n",
       "      <th>tract_to_msamd_income</th>\n",
       "      <th>rate_spread</th>\n",
       "      <th>population</th>\n",
       "      <th>minority_population</th>\n",
       "      <th>number_of_owner_occupied_units</th>\n",
       "      <th>number_of_1_to_4_family_units</th>\n",
       "      <th>loan_amount_000s</th>\n",
       "      <th>hud_median_family_income</th>\n",
       "      <th>applicant_income_000s</th>\n",
       "      <th>state_name</th>\n",
       "      <th>...</th>\n",
       "      <th>applicant_sex_name</th>\n",
       "      <th>applicant_race_name_5</th>\n",
       "      <th>applicant_race_name_4</th>\n",
       "      <th>applicant_race_name_3</th>\n",
       "      <th>applicant_race_name_2</th>\n",
       "      <th>applicant_race_name_1</th>\n",
       "      <th>applicant_ethnicity_name</th>\n",
       "      <th>agency_name</th>\n",
       "      <th>agency_abbr</th>\n",
       "      <th>action_taken_name</th>\n",
       "    </tr>\n",
       "    <tr>\n",
       "      <th>denial_reason_name_1</th>\n",
       "      <th></th>\n",
       "      <th></th>\n",
       "      <th></th>\n",
       "      <th></th>\n",
       "      <th></th>\n",
       "      <th></th>\n",
       "      <th></th>\n",
       "      <th></th>\n",
       "      <th></th>\n",
       "      <th></th>\n",
       "      <th></th>\n",
       "      <th></th>\n",
       "      <th></th>\n",
       "      <th></th>\n",
       "      <th></th>\n",
       "      <th></th>\n",
       "      <th></th>\n",
       "      <th></th>\n",
       "      <th></th>\n",
       "      <th></th>\n",
       "      <th></th>\n",
       "    </tr>\n",
       "  </thead>\n",
       "  <tbody>\n",
       "    <tr>\n",
       "      <th>Collateral</th>\n",
       "      <td>3163</td>\n",
       "      <td>0</td>\n",
       "      <td>2778</td>\n",
       "      <td>2708</td>\n",
       "      <td>1743</td>\n",
       "      <td>1977</td>\n",
       "      <td>1016</td>\n",
       "      <td>15</td>\n",
       "      <td>696</td>\n",
       "      <td>1</td>\n",
       "      <td>...</td>\n",
       "      <td>4</td>\n",
       "      <td>0</td>\n",
       "      <td>0</td>\n",
       "      <td>3</td>\n",
       "      <td>5</td>\n",
       "      <td>7</td>\n",
       "      <td>4</td>\n",
       "      <td>6</td>\n",
       "      <td>6</td>\n",
       "      <td>1</td>\n",
       "    </tr>\n",
       "    <tr>\n",
       "      <th>Credit application incomplete</th>\n",
       "      <td>2712</td>\n",
       "      <td>0</td>\n",
       "      <td>2433</td>\n",
       "      <td>2381</td>\n",
       "      <td>1627</td>\n",
       "      <td>1829</td>\n",
       "      <td>998</td>\n",
       "      <td>15</td>\n",
       "      <td>661</td>\n",
       "      <td>1</td>\n",
       "      <td>...</td>\n",
       "      <td>4</td>\n",
       "      <td>0</td>\n",
       "      <td>0</td>\n",
       "      <td>0</td>\n",
       "      <td>5</td>\n",
       "      <td>7</td>\n",
       "      <td>4</td>\n",
       "      <td>6</td>\n",
       "      <td>6</td>\n",
       "      <td>1</td>\n",
       "    </tr>\n",
       "    <tr>\n",
       "      <th>Credit history</th>\n",
       "      <td>3399</td>\n",
       "      <td>0</td>\n",
       "      <td>2945</td>\n",
       "      <td>2869</td>\n",
       "      <td>1775</td>\n",
       "      <td>2031</td>\n",
       "      <td>805</td>\n",
       "      <td>15</td>\n",
       "      <td>569</td>\n",
       "      <td>1</td>\n",
       "      <td>...</td>\n",
       "      <td>4</td>\n",
       "      <td>0</td>\n",
       "      <td>1</td>\n",
       "      <td>3</td>\n",
       "      <td>5</td>\n",
       "      <td>7</td>\n",
       "      <td>4</td>\n",
       "      <td>6</td>\n",
       "      <td>6</td>\n",
       "      <td>1</td>\n",
       "    </tr>\n",
       "    <tr>\n",
       "      <th>Debt-to-income ratio</th>\n",
       "      <td>3477</td>\n",
       "      <td>0</td>\n",
       "      <td>2999</td>\n",
       "      <td>2975</td>\n",
       "      <td>1791</td>\n",
       "      <td>2064</td>\n",
       "      <td>1174</td>\n",
       "      <td>15</td>\n",
       "      <td>569</td>\n",
       "      <td>1</td>\n",
       "      <td>...</td>\n",
       "      <td>4</td>\n",
       "      <td>1</td>\n",
       "      <td>1</td>\n",
       "      <td>2</td>\n",
       "      <td>5</td>\n",
       "      <td>7</td>\n",
       "      <td>4</td>\n",
       "      <td>6</td>\n",
       "      <td>6</td>\n",
       "      <td>2</td>\n",
       "    </tr>\n",
       "    <tr>\n",
       "      <th>Employment history</th>\n",
       "      <td>612</td>\n",
       "      <td>0</td>\n",
       "      <td>610</td>\n",
       "      <td>570</td>\n",
       "      <td>541</td>\n",
       "      <td>569</td>\n",
       "      <td>355</td>\n",
       "      <td>15</td>\n",
       "      <td>191</td>\n",
       "      <td>1</td>\n",
       "      <td>...</td>\n",
       "      <td>3</td>\n",
       "      <td>0</td>\n",
       "      <td>0</td>\n",
       "      <td>0</td>\n",
       "      <td>2</td>\n",
       "      <td>6</td>\n",
       "      <td>4</td>\n",
       "      <td>6</td>\n",
       "      <td>6</td>\n",
       "      <td>1</td>\n",
       "    </tr>\n",
       "    <tr>\n",
       "      <th>Insufficient cash (downpayment, closing costs)</th>\n",
       "      <td>1074</td>\n",
       "      <td>0</td>\n",
       "      <td>1044</td>\n",
       "      <td>1008</td>\n",
       "      <td>869</td>\n",
       "      <td>953</td>\n",
       "      <td>591</td>\n",
       "      <td>15</td>\n",
       "      <td>352</td>\n",
       "      <td>1</td>\n",
       "      <td>...</td>\n",
       "      <td>4</td>\n",
       "      <td>0</td>\n",
       "      <td>0</td>\n",
       "      <td>0</td>\n",
       "      <td>2</td>\n",
       "      <td>7</td>\n",
       "      <td>4</td>\n",
       "      <td>6</td>\n",
       "      <td>6</td>\n",
       "      <td>1</td>\n",
       "    </tr>\n",
       "    <tr>\n",
       "      <th>Mortgage insurance denied</th>\n",
       "      <td>126</td>\n",
       "      <td>0</td>\n",
       "      <td>127</td>\n",
       "      <td>127</td>\n",
       "      <td>122</td>\n",
       "      <td>124</td>\n",
       "      <td>93</td>\n",
       "      <td>12</td>\n",
       "      <td>83</td>\n",
       "      <td>1</td>\n",
       "      <td>...</td>\n",
       "      <td>3</td>\n",
       "      <td>0</td>\n",
       "      <td>0</td>\n",
       "      <td>0</td>\n",
       "      <td>1</td>\n",
       "      <td>6</td>\n",
       "      <td>3</td>\n",
       "      <td>6</td>\n",
       "      <td>6</td>\n",
       "      <td>1</td>\n",
       "    </tr>\n",
       "    <tr>\n",
       "      <th>Other</th>\n",
       "      <td>2438</td>\n",
       "      <td>0</td>\n",
       "      <td>2224</td>\n",
       "      <td>2170</td>\n",
       "      <td>1550</td>\n",
       "      <td>1708</td>\n",
       "      <td>816</td>\n",
       "      <td>15</td>\n",
       "      <td>557</td>\n",
       "      <td>1</td>\n",
       "      <td>...</td>\n",
       "      <td>4</td>\n",
       "      <td>0</td>\n",
       "      <td>0</td>\n",
       "      <td>1</td>\n",
       "      <td>5</td>\n",
       "      <td>7</td>\n",
       "      <td>4</td>\n",
       "      <td>6</td>\n",
       "      <td>6</td>\n",
       "      <td>2</td>\n",
       "    </tr>\n",
       "    <tr>\n",
       "      <th>Unverifiable information</th>\n",
       "      <td>1379</td>\n",
       "      <td>0</td>\n",
       "      <td>1322</td>\n",
       "      <td>1288</td>\n",
       "      <td>1069</td>\n",
       "      <td>1102</td>\n",
       "      <td>652</td>\n",
       "      <td>15</td>\n",
       "      <td>380</td>\n",
       "      <td>1</td>\n",
       "      <td>...</td>\n",
       "      <td>4</td>\n",
       "      <td>0</td>\n",
       "      <td>0</td>\n",
       "      <td>1</td>\n",
       "      <td>3</td>\n",
       "      <td>7</td>\n",
       "      <td>4</td>\n",
       "      <td>6</td>\n",
       "      <td>6</td>\n",
       "      <td>1</td>\n",
       "    </tr>\n",
       "  </tbody>\n",
       "</table>\n",
       "<p>9 rows × 47 columns</p>\n",
       "</div>"
      ],
      "text/plain": [
       "                                                tract_to_msamd_income  \\\n",
       "denial_reason_name_1                                                    \n",
       "Collateral                                                       3163   \n",
       "Credit application incomplete                                    2712   \n",
       "Credit history                                                   3399   \n",
       "Debt-to-income ratio                                             3477   \n",
       "Employment history                                                612   \n",
       "Insufficient cash (downpayment, closing costs)                   1074   \n",
       "Mortgage insurance denied                                         126   \n",
       "Other                                                            2438   \n",
       "Unverifiable information                                         1379   \n",
       "\n",
       "                                                rate_spread  population  \\\n",
       "denial_reason_name_1                                                      \n",
       "Collateral                                                0        2778   \n",
       "Credit application incomplete                             0        2433   \n",
       "Credit history                                            0        2945   \n",
       "Debt-to-income ratio                                      0        2999   \n",
       "Employment history                                        0         610   \n",
       "Insufficient cash (downpayment, closing costs)            0        1044   \n",
       "Mortgage insurance denied                                 0         127   \n",
       "Other                                                     0        2224   \n",
       "Unverifiable information                                  0        1322   \n",
       "\n",
       "                                                minority_population  \\\n",
       "denial_reason_name_1                                                  \n",
       "Collateral                                                     2708   \n",
       "Credit application incomplete                                  2381   \n",
       "Credit history                                                 2869   \n",
       "Debt-to-income ratio                                           2975   \n",
       "Employment history                                              570   \n",
       "Insufficient cash (downpayment, closing costs)                 1008   \n",
       "Mortgage insurance denied                                       127   \n",
       "Other                                                          2170   \n",
       "Unverifiable information                                       1288   \n",
       "\n",
       "                                                number_of_owner_occupied_units  \\\n",
       "denial_reason_name_1                                                             \n",
       "Collateral                                                                1743   \n",
       "Credit application incomplete                                             1627   \n",
       "Credit history                                                            1775   \n",
       "Debt-to-income ratio                                                      1791   \n",
       "Employment history                                                         541   \n",
       "Insufficient cash (downpayment, closing costs)                             869   \n",
       "Mortgage insurance denied                                                  122   \n",
       "Other                                                                     1550   \n",
       "Unverifiable information                                                  1069   \n",
       "\n",
       "                                                number_of_1_to_4_family_units  \\\n",
       "denial_reason_name_1                                                            \n",
       "Collateral                                                               1977   \n",
       "Credit application incomplete                                            1829   \n",
       "Credit history                                                           2031   \n",
       "Debt-to-income ratio                                                     2064   \n",
       "Employment history                                                        569   \n",
       "Insufficient cash (downpayment, closing costs)                            953   \n",
       "Mortgage insurance denied                                                 124   \n",
       "Other                                                                    1708   \n",
       "Unverifiable information                                                 1102   \n",
       "\n",
       "                                                loan_amount_000s  \\\n",
       "denial_reason_name_1                                               \n",
       "Collateral                                                  1016   \n",
       "Credit application incomplete                                998   \n",
       "Credit history                                               805   \n",
       "Debt-to-income ratio                                        1174   \n",
       "Employment history                                           355   \n",
       "Insufficient cash (downpayment, closing costs)               591   \n",
       "Mortgage insurance denied                                     93   \n",
       "Other                                                        816   \n",
       "Unverifiable information                                     652   \n",
       "\n",
       "                                                hud_median_family_income  \\\n",
       "denial_reason_name_1                                                       \n",
       "Collateral                                                            15   \n",
       "Credit application incomplete                                         15   \n",
       "Credit history                                                        15   \n",
       "Debt-to-income ratio                                                  15   \n",
       "Employment history                                                    15   \n",
       "Insufficient cash (downpayment, closing costs)                        15   \n",
       "Mortgage insurance denied                                             12   \n",
       "Other                                                                 15   \n",
       "Unverifiable information                                              15   \n",
       "\n",
       "                                                applicant_income_000s  \\\n",
       "denial_reason_name_1                                                    \n",
       "Collateral                                                        696   \n",
       "Credit application incomplete                                     661   \n",
       "Credit history                                                    569   \n",
       "Debt-to-income ratio                                              569   \n",
       "Employment history                                                191   \n",
       "Insufficient cash (downpayment, closing costs)                    352   \n",
       "Mortgage insurance denied                                          83   \n",
       "Other                                                             557   \n",
       "Unverifiable information                                          380   \n",
       "\n",
       "                                                state_name        ...          \\\n",
       "denial_reason_name_1                                              ...           \n",
       "Collateral                                               1        ...           \n",
       "Credit application incomplete                            1        ...           \n",
       "Credit history                                           1        ...           \n",
       "Debt-to-income ratio                                     1        ...           \n",
       "Employment history                                       1        ...           \n",
       "Insufficient cash (downpayment, closing costs)           1        ...           \n",
       "Mortgage insurance denied                                1        ...           \n",
       "Other                                                    1        ...           \n",
       "Unverifiable information                                 1        ...           \n",
       "\n",
       "                                                applicant_sex_name  \\\n",
       "denial_reason_name_1                                                 \n",
       "Collateral                                                       4   \n",
       "Credit application incomplete                                    4   \n",
       "Credit history                                                   4   \n",
       "Debt-to-income ratio                                             4   \n",
       "Employment history                                               3   \n",
       "Insufficient cash (downpayment, closing costs)                   4   \n",
       "Mortgage insurance denied                                        3   \n",
       "Other                                                            4   \n",
       "Unverifiable information                                         4   \n",
       "\n",
       "                                                applicant_race_name_5  \\\n",
       "denial_reason_name_1                                                    \n",
       "Collateral                                                          0   \n",
       "Credit application incomplete                                       0   \n",
       "Credit history                                                      0   \n",
       "Debt-to-income ratio                                                1   \n",
       "Employment history                                                  0   \n",
       "Insufficient cash (downpayment, closing costs)                      0   \n",
       "Mortgage insurance denied                                           0   \n",
       "Other                                                               0   \n",
       "Unverifiable information                                            0   \n",
       "\n",
       "                                                applicant_race_name_4  \\\n",
       "denial_reason_name_1                                                    \n",
       "Collateral                                                          0   \n",
       "Credit application incomplete                                       0   \n",
       "Credit history                                                      1   \n",
       "Debt-to-income ratio                                                1   \n",
       "Employment history                                                  0   \n",
       "Insufficient cash (downpayment, closing costs)                      0   \n",
       "Mortgage insurance denied                                           0   \n",
       "Other                                                               0   \n",
       "Unverifiable information                                            0   \n",
       "\n",
       "                                                applicant_race_name_3  \\\n",
       "denial_reason_name_1                                                    \n",
       "Collateral                                                          3   \n",
       "Credit application incomplete                                       0   \n",
       "Credit history                                                      3   \n",
       "Debt-to-income ratio                                                2   \n",
       "Employment history                                                  0   \n",
       "Insufficient cash (downpayment, closing costs)                      0   \n",
       "Mortgage insurance denied                                           0   \n",
       "Other                                                               1   \n",
       "Unverifiable information                                            1   \n",
       "\n",
       "                                                applicant_race_name_2  \\\n",
       "denial_reason_name_1                                                    \n",
       "Collateral                                                          5   \n",
       "Credit application incomplete                                       5   \n",
       "Credit history                                                      5   \n",
       "Debt-to-income ratio                                                5   \n",
       "Employment history                                                  2   \n",
       "Insufficient cash (downpayment, closing costs)                      2   \n",
       "Mortgage insurance denied                                           1   \n",
       "Other                                                               5   \n",
       "Unverifiable information                                            3   \n",
       "\n",
       "                                                applicant_race_name_1  \\\n",
       "denial_reason_name_1                                                    \n",
       "Collateral                                                          7   \n",
       "Credit application incomplete                                       7   \n",
       "Credit history                                                      7   \n",
       "Debt-to-income ratio                                                7   \n",
       "Employment history                                                  6   \n",
       "Insufficient cash (downpayment, closing costs)                      7   \n",
       "Mortgage insurance denied                                           6   \n",
       "Other                                                               7   \n",
       "Unverifiable information                                            7   \n",
       "\n",
       "                                                applicant_ethnicity_name  \\\n",
       "denial_reason_name_1                                                       \n",
       "Collateral                                                             4   \n",
       "Credit application incomplete                                          4   \n",
       "Credit history                                                         4   \n",
       "Debt-to-income ratio                                                   4   \n",
       "Employment history                                                     4   \n",
       "Insufficient cash (downpayment, closing costs)                         4   \n",
       "Mortgage insurance denied                                              3   \n",
       "Other                                                                  4   \n",
       "Unverifiable information                                               4   \n",
       "\n",
       "                                                agency_name  agency_abbr  \\\n",
       "denial_reason_name_1                                                       \n",
       "Collateral                                                6            6   \n",
       "Credit application incomplete                             6            6   \n",
       "Credit history                                            6            6   \n",
       "Debt-to-income ratio                                      6            6   \n",
       "Employment history                                        6            6   \n",
       "Insufficient cash (downpayment, closing costs)            6            6   \n",
       "Mortgage insurance denied                                 6            6   \n",
       "Other                                                     6            6   \n",
       "Unverifiable information                                  6            6   \n",
       "\n",
       "                                                action_taken_name  \n",
       "denial_reason_name_1                                               \n",
       "Collateral                                                      1  \n",
       "Credit application incomplete                                   1  \n",
       "Credit history                                                  1  \n",
       "Debt-to-income ratio                                            2  \n",
       "Employment history                                              1  \n",
       "Insufficient cash (downpayment, closing costs)                  1  \n",
       "Mortgage insurance denied                                       1  \n",
       "Other                                                           2  \n",
       "Unverifiable information                                        1  \n",
       "\n",
       "[9 rows x 47 columns]"
      ]
     },
     "execution_count": 12,
     "metadata": {},
     "output_type": "execute_result"
    }
   ],
   "source": [
    "# See the different reasons up to 3 per application for why a loan was not originated\n",
    "df_test.groupby('denial_reason_name_1').apply(lambda x: x.nunique())"
   ]
  },
  {
   "cell_type": "code",
   "execution_count": 13,
   "metadata": {},
   "outputs": [],
   "source": [
    "# Add back in if we get rid of denial reasons and only focus on loan originated/not loan originated\n",
    "# Recording reasons for denial is optional, except for institutions supervised by the Office of Thrift Supervision (OTS)* or the Office of the Comptroller of the Currency (OCC).\n",
    "#df_test.drop([\"denial_reason_name_1\",\"denial_reason_name_2\", \"denial_reason_name_3\"],axis=1);"
   ]
  },
  {
   "cell_type": "code",
   "execution_count": 20,
   "metadata": {
    "scrolled": true
   },
   "outputs": [
    {
     "data": {
      "text/plain": [
       "agency_abbr\n",
       "CFPB    177762\n",
       "FDIC     15555\n",
       "FRS      10211\n",
       "HUD     150441\n",
       "NCUA     50944\n",
       "OCC      34741\n",
       "Name: respondent_id, dtype: int64"
      ]
     },
     "execution_count": 20,
     "metadata": {},
     "output_type": "execute_result"
    }
   ],
   "source": [
    "df_test.groupby('agency_abbr').respondent_id.count()#apply(lambda x: x.nunique())\n",
    "# 6 different agencies can approve these loans"
   ]
  },
  {
   "cell_type": "code",
   "execution_count": null,
   "metadata": {},
   "outputs": [],
   "source": []
  },
  {
   "cell_type": "markdown",
   "metadata": {},
   "source": [
    "<font color='red'>ADD: We should drop more that goes beyond approved/not approved. Thoughts: lien status is for collateral- is this too specific? </font> "
   ]
  },
  {
   "cell_type": "markdown",
   "metadata": {},
   "source": [
    "In order to process this data and model trends in loan biases, we will only work with numeric entries. Therefore, we must encode categorical columns with numbers."
   ]
  },
  {
   "cell_type": "code",
   "execution_count": 15,
   "metadata": {},
   "outputs": [],
   "source": [
    "# potential columns be encoded: \n",
    "# action_taken_name: 0 originated, 1 not originated\n",
    "# agency_name: \n",
    "# action_taken: \n",
    "# applicant_race_name_1:\n",
    "# applicant_race_name_2:\n",
    "# applicant_race_name_3:\n",
    "# applicant_race_name_4: \n",
    "# applicant_race_name_5: \n",
    "# applicant_sex_name: 0 male, 1 female\n",
    "# co_applicant_ethnicity_name:\n",
    "# co_applicant_race_name_1:\n",
    "# co_applicant_race_name_1:\n",
    "# co_applicant_race_name_1:\n",
    "# co_applicant_sex_name:\n",
    "# county_name:\n",
    "# hoepa_status_name:\n",
    "# lien_status_name:\n",
    "# loan_purpose_name:\n",
    "# loan_type_name:\n",
    "# purchaser_type_name:"
   ]
  },
  {
   "cell_type": "code",
   "execution_count": 16,
   "metadata": {},
   "outputs": [],
   "source": [
    "# encode categorical to numerical for processing\n",
    "def encode_action(action_type, category):\n",
    "    if action_type == category:\n",
    "        return 0\n",
    "    else: \n",
    "        return 1"
   ]
  },
  {
   "cell_type": "code",
   "execution_count": 17,
   "metadata": {},
   "outputs": [],
   "source": [
    "df_encode = df_test.copy()\n",
    "df_encode.action_taken_name = df_encode.action_taken_name.apply(lambda x: encode_action(x, 'Loan originated'))"
   ]
  },
  {
   "cell_type": "markdown",
   "metadata": {},
   "source": [
    "We will bucket income into the standard US tax brackets found at https://web.blockadvisors.com/2017-tax-brackets/ in order to control for income and consider the impact of race on loan status."
   ]
  },
  {
   "cell_type": "code",
   "execution_count": 53,
   "metadata": {},
   "outputs": [
    {
     "data": {
      "text/plain": [
       "count    328663.000000\n",
       "mean        135.017757\n",
       "std         249.788201\n",
       "min           1.000000\n",
       "25%          57.000000\n",
       "50%          88.000000\n",
       "75%         139.000000\n",
       "max        9999.000000\n",
       "Name: applicant_income_000s, dtype: float64"
      ]
     },
     "execution_count": 53,
     "metadata": {},
     "output_type": "execute_result"
    }
   ],
   "source": [
    "df_test['applicant_income_000s'].describe()"
   ]
  },
  {
   "cell_type": "code",
   "execution_count": 64,
   "metadata": {},
   "outputs": [
    {
     "name": "stdout",
     "output_type": "stream",
     "text": [
      "Number of applicants with reported income above $9.9 million: 37\n"
     ]
    }
   ],
   "source": [
    "# the max applicant income reported is 9999 thousand and there are 37 applicants with this income. \n",
    "print(\"Number of applicants with reported income above $9.9 million:\", \n",
    "      df_test[df_test['applicant_income_000s'] == 9999.000000].shape[0])"
   ]
  },
  {
   "cell_type": "code",
   "execution_count": 66,
   "metadata": {},
   "outputs": [],
   "source": [
    "# if you do not provide the maximum bucket value, all incomes that do not fall within these specific categories will be reported as NaN\n",
    "df_encode['income_bracket'] = pd.cut(df_test['applicant_income_000s'], [0, 18, 75, 153, 233, 416, 470, 9999])"
   ]
  },
  {
   "cell_type": "code",
   "execution_count": null,
   "metadata": {},
   "outputs": [],
   "source": [
    "# download as csv for processing notebook \n",
    "df_encode.to_csv(\"encoded_loan_data.csv\", index=False)"
   ]
  }
 ],
 "metadata": {
  "kernelspec": {
   "display_name": "Python 3",
   "language": "python",
   "name": "python3"
  },
  "language_info": {
   "codemirror_mode": {
    "name": "ipython",
    "version": 3
   },
   "file_extension": ".py",
   "mimetype": "text/x-python",
   "name": "python",
   "nbconvert_exporter": "python",
   "pygments_lexer": "ipython3",
   "version": "3.6.4"
  }
 },
 "nbformat": 4,
 "nbformat_minor": 2
}
